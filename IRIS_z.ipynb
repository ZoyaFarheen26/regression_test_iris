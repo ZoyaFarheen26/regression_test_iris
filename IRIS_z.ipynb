{
  "cells": [
    {
      "cell_type": "markdown",
      "id": "0e887dbf",
      "metadata": {
        "papermill": {
          "duration": 0.010063,
          "end_time": "2023-05-19T08:13:21.269868",
          "exception": false,
          "start_time": "2023-05-19T08:13:21.259805",
          "status": "completed"
        },
        "tags": [],
        "id": "0e887dbf"
      },
      "source": [
        "# Introduction\n"
      ]
    },
    {
      "cell_type": "code",
      "execution_count": 1,
      "id": "86693459",
      "metadata": {
        "_cell_guid": "b1076dfc-b9ad-4769-8c92-a6c4dae69d19",
        "_uuid": "8f2839f25d086af736a60e9eeb907d3b93b6e0e5",
        "execution": {
          "iopub.execute_input": "2023-05-19T08:13:21.290599Z",
          "iopub.status.busy": "2023-05-19T08:13:21.290201Z",
          "iopub.status.idle": "2023-05-19T08:13:22.541605Z",
          "shell.execute_reply": "2023-05-19T08:13:22.540483Z"
        },
        "papermill": {
          "duration": 1.264787,
          "end_time": "2023-05-19T08:13:22.544313",
          "exception": false,
          "start_time": "2023-05-19T08:13:21.279526",
          "status": "completed"
        },
        "tags": [],
        "id": "86693459"
      },
      "outputs": [],
      "source": [
        "#import libraries\n",
        "import numpy as np  # NumPy is a library for numerical computing in Python.\n",
        "import pandas as pd #Pandas is a library for data manipulation and analysis.\n",
        "import matplotlib.pyplot as plt #Matplotlib is a plotting library for Python.\n",
        "import seaborn as sns # Seaborn is a data visualization library built on top of matplotlib.\n",
        "from scipy.stats import pearsonr #This line imports the pearsonr function from the scipy.stats module. \n",
        "\n",
        "# Pearson's correlation coefficient is a measure of the linear relationship between two variables."
      ]
    },
    {
      "cell_type": "code",
      "execution_count": 2,
      "id": "4dc9fcda",
      "metadata": {
        "execution": {
          "iopub.execute_input": "2023-05-19T08:13:22.603794Z",
          "iopub.status.busy": "2023-05-19T08:13:22.603427Z",
          "iopub.status.idle": "2023-05-19T08:13:22.624610Z",
          "shell.execute_reply": "2023-05-19T08:13:22.623705Z"
        },
        "papermill": {
          "duration": 0.034503,
          "end_time": "2023-05-19T08:13:22.626978",
          "exception": false,
          "start_time": "2023-05-19T08:13:22.592475",
          "status": "completed"
        },
        "tags": [],
        "id": "4dc9fcda"
      },
      "outputs": [],
      "source": [
        "#let's load our database\n",
        "iris_df = pd.read_csv('/content/IRIS.csv')"
      ]
    },
    {
      "cell_type": "code",
      "execution_count": 3,
      "id": "f9cb8006",
      "metadata": {
        "execution": {
          "iopub.execute_input": "2023-05-19T08:13:22.647387Z",
          "iopub.status.busy": "2023-05-19T08:13:22.647030Z",
          "iopub.status.idle": "2023-05-19T08:13:22.680520Z",
          "shell.execute_reply": "2023-05-19T08:13:22.679736Z"
        },
        "papermill": {
          "duration": 0.046375,
          "end_time": "2023-05-19T08:13:22.682758",
          "exception": false,
          "start_time": "2023-05-19T08:13:22.636383",
          "status": "completed"
        },
        "tags": [],
        "colab": {
          "base_uri": "https://localhost:8080/",
          "height": 206
        },
        "id": "f9cb8006",
        "outputId": "4f3198fa-b7b0-4ca6-c404-52b2de887bd5"
      },
      "outputs": [
        {
          "output_type": "execute_result",
          "data": {
            "text/plain": [
              "     sepal_length  sepal_width  petal_length  petal_width         species\n",
              "30            4.8          3.1           1.6          0.2     Iris-setosa\n",
              "16            5.4          3.9           1.3          0.4     Iris-setosa\n",
              "121           5.6          2.8           4.9          2.0  Iris-virginica\n",
              "43            5.0          3.5           1.6          0.6     Iris-setosa\n",
              "32            5.2          4.1           1.5          0.1     Iris-setosa"
            ],
            "text/html": [
              "\n",
              "  <div id=\"df-f92dd94d-e649-4f73-83d8-c555034217ca\">\n",
              "    <div class=\"colab-df-container\">\n",
              "      <div>\n",
              "<style scoped>\n",
              "    .dataframe tbody tr th:only-of-type {\n",
              "        vertical-align: middle;\n",
              "    }\n",
              "\n",
              "    .dataframe tbody tr th {\n",
              "        vertical-align: top;\n",
              "    }\n",
              "\n",
              "    .dataframe thead th {\n",
              "        text-align: right;\n",
              "    }\n",
              "</style>\n",
              "<table border=\"1\" class=\"dataframe\">\n",
              "  <thead>\n",
              "    <tr style=\"text-align: right;\">\n",
              "      <th></th>\n",
              "      <th>sepal_length</th>\n",
              "      <th>sepal_width</th>\n",
              "      <th>petal_length</th>\n",
              "      <th>petal_width</th>\n",
              "      <th>species</th>\n",
              "    </tr>\n",
              "  </thead>\n",
              "  <tbody>\n",
              "    <tr>\n",
              "      <th>30</th>\n",
              "      <td>4.8</td>\n",
              "      <td>3.1</td>\n",
              "      <td>1.6</td>\n",
              "      <td>0.2</td>\n",
              "      <td>Iris-setosa</td>\n",
              "    </tr>\n",
              "    <tr>\n",
              "      <th>16</th>\n",
              "      <td>5.4</td>\n",
              "      <td>3.9</td>\n",
              "      <td>1.3</td>\n",
              "      <td>0.4</td>\n",
              "      <td>Iris-setosa</td>\n",
              "    </tr>\n",
              "    <tr>\n",
              "      <th>121</th>\n",
              "      <td>5.6</td>\n",
              "      <td>2.8</td>\n",
              "      <td>4.9</td>\n",
              "      <td>2.0</td>\n",
              "      <td>Iris-virginica</td>\n",
              "    </tr>\n",
              "    <tr>\n",
              "      <th>43</th>\n",
              "      <td>5.0</td>\n",
              "      <td>3.5</td>\n",
              "      <td>1.6</td>\n",
              "      <td>0.6</td>\n",
              "      <td>Iris-setosa</td>\n",
              "    </tr>\n",
              "    <tr>\n",
              "      <th>32</th>\n",
              "      <td>5.2</td>\n",
              "      <td>4.1</td>\n",
              "      <td>1.5</td>\n",
              "      <td>0.1</td>\n",
              "      <td>Iris-setosa</td>\n",
              "    </tr>\n",
              "  </tbody>\n",
              "</table>\n",
              "</div>\n",
              "      <button class=\"colab-df-convert\" onclick=\"convertToInteractive('df-f92dd94d-e649-4f73-83d8-c555034217ca')\"\n",
              "              title=\"Convert this dataframe to an interactive table.\"\n",
              "              style=\"display:none;\">\n",
              "        \n",
              "  <svg xmlns=\"http://www.w3.org/2000/svg\" height=\"24px\"viewBox=\"0 0 24 24\"\n",
              "       width=\"24px\">\n",
              "    <path d=\"M0 0h24v24H0V0z\" fill=\"none\"/>\n",
              "    <path d=\"M18.56 5.44l.94 2.06.94-2.06 2.06-.94-2.06-.94-.94-2.06-.94 2.06-2.06.94zm-11 1L8.5 8.5l.94-2.06 2.06-.94-2.06-.94L8.5 2.5l-.94 2.06-2.06.94zm10 10l.94 2.06.94-2.06 2.06-.94-2.06-.94-.94-2.06-.94 2.06-2.06.94z\"/><path d=\"M17.41 7.96l-1.37-1.37c-.4-.4-.92-.59-1.43-.59-.52 0-1.04.2-1.43.59L10.3 9.45l-7.72 7.72c-.78.78-.78 2.05 0 2.83L4 21.41c.39.39.9.59 1.41.59.51 0 1.02-.2 1.41-.59l7.78-7.78 2.81-2.81c.8-.78.8-2.07 0-2.86zM5.41 20L4 18.59l7.72-7.72 1.47 1.35L5.41 20z\"/>\n",
              "  </svg>\n",
              "      </button>\n",
              "      \n",
              "  <style>\n",
              "    .colab-df-container {\n",
              "      display:flex;\n",
              "      flex-wrap:wrap;\n",
              "      gap: 12px;\n",
              "    }\n",
              "\n",
              "    .colab-df-convert {\n",
              "      background-color: #E8F0FE;\n",
              "      border: none;\n",
              "      border-radius: 50%;\n",
              "      cursor: pointer;\n",
              "      display: none;\n",
              "      fill: #1967D2;\n",
              "      height: 32px;\n",
              "      padding: 0 0 0 0;\n",
              "      width: 32px;\n",
              "    }\n",
              "\n",
              "    .colab-df-convert:hover {\n",
              "      background-color: #E2EBFA;\n",
              "      box-shadow: 0px 1px 2px rgba(60, 64, 67, 0.3), 0px 1px 3px 1px rgba(60, 64, 67, 0.15);\n",
              "      fill: #174EA6;\n",
              "    }\n",
              "\n",
              "    [theme=dark] .colab-df-convert {\n",
              "      background-color: #3B4455;\n",
              "      fill: #D2E3FC;\n",
              "    }\n",
              "\n",
              "    [theme=dark] .colab-df-convert:hover {\n",
              "      background-color: #434B5C;\n",
              "      box-shadow: 0px 1px 3px 1px rgba(0, 0, 0, 0.15);\n",
              "      filter: drop-shadow(0px 1px 2px rgba(0, 0, 0, 0.3));\n",
              "      fill: #FFFFFF;\n",
              "    }\n",
              "  </style>\n",
              "\n",
              "      <script>\n",
              "        const buttonEl =\n",
              "          document.querySelector('#df-f92dd94d-e649-4f73-83d8-c555034217ca button.colab-df-convert');\n",
              "        buttonEl.style.display =\n",
              "          google.colab.kernel.accessAllowed ? 'block' : 'none';\n",
              "\n",
              "        async function convertToInteractive(key) {\n",
              "          const element = document.querySelector('#df-f92dd94d-e649-4f73-83d8-c555034217ca');\n",
              "          const dataTable =\n",
              "            await google.colab.kernel.invokeFunction('convertToInteractive',\n",
              "                                                     [key], {});\n",
              "          if (!dataTable) return;\n",
              "\n",
              "          const docLinkHtml = 'Like what you see? Visit the ' +\n",
              "            '<a target=\"_blank\" href=https://colab.research.google.com/notebooks/data_table.ipynb>data table notebook</a>'\n",
              "            + ' to learn more about interactive tables.';\n",
              "          element.innerHTML = '';\n",
              "          dataTable['output_type'] = 'display_data';\n",
              "          await google.colab.output.renderOutput(dataTable, element);\n",
              "          const docLink = document.createElement('div');\n",
              "          docLink.innerHTML = docLinkHtml;\n",
              "          element.appendChild(docLink);\n",
              "        }\n",
              "      </script>\n",
              "    </div>\n",
              "  </div>\n",
              "  "
            ]
          },
          "metadata": {},
          "execution_count": 3
        }
      ],
      "source": [
        "#let's take a look at our dataset\n",
        "iris_df.sample(5)"
      ]
    },
    {
      "cell_type": "code",
      "execution_count": 4,
      "id": "13f7e2c6",
      "metadata": {
        "execution": {
          "iopub.execute_input": "2023-05-19T08:13:22.738184Z",
          "iopub.status.busy": "2023-05-19T08:13:22.737491Z",
          "iopub.status.idle": "2023-05-19T08:13:22.758476Z",
          "shell.execute_reply": "2023-05-19T08:13:22.757388Z"
        },
        "papermill": {
          "duration": 0.034808,
          "end_time": "2023-05-19T08:13:22.760943",
          "exception": false,
          "start_time": "2023-05-19T08:13:22.726135",
          "status": "completed"
        },
        "tags": [],
        "id": "13f7e2c6",
        "colab": {
          "base_uri": "https://localhost:8080/"
        },
        "outputId": "3f71951f-d5af-4166-94ee-b33140f649ec"
      },
      "outputs": [
        {
          "output_type": "stream",
          "name": "stdout",
          "text": [
            "<class 'pandas.core.frame.DataFrame'>\n",
            "RangeIndex: 150 entries, 0 to 149\n",
            "Data columns (total 5 columns):\n",
            " #   Column        Non-Null Count  Dtype  \n",
            "---  ------        --------------  -----  \n",
            " 0   sepal_length  150 non-null    float64\n",
            " 1   sepal_width   150 non-null    float64\n",
            " 2   petal_length  150 non-null    float64\n",
            " 3   petal_width   150 non-null    float64\n",
            " 4   species       150 non-null    object \n",
            "dtypes: float64(4), object(1)\n",
            "memory usage: 6.0+ KB\n"
          ]
        }
      ],
      "source": [
        "#Let's got some data about our dataset\n",
        "iris_df.info()"
      ]
    },
    {
      "cell_type": "code",
      "source": [],
      "metadata": {
        "id": "2hRjOXcqVrK8"
      },
      "id": "2hRjOXcqVrK8",
      "execution_count": 4,
      "outputs": []
    },
    {
      "cell_type": "markdown",
      "id": "0c9ef040",
      "metadata": {
        "papermill": {
          "duration": 0.009426,
          "end_time": "2023-05-19T08:13:22.780047",
          "exception": false,
          "start_time": "2023-05-19T08:13:22.770621",
          "status": "completed"
        },
        "tags": [],
        "id": "0c9ef040"
      },
      "source": [
        "It seems that the data is all clean and ready to go "
      ]
    },
    {
      "cell_type": "markdown",
      "id": "7d7179b3",
      "metadata": {
        "papermill": {
          "duration": 0.009273,
          "end_time": "2023-05-19T08:13:22.798757",
          "exception": false,
          "start_time": "2023-05-19T08:13:22.789484",
          "status": "completed"
        },
        "tags": [],
        "id": "7d7179b3"
      },
      "source": [
        "# Explanatory Data Analysis\n"
      ]
    },
    {
      "cell_type": "code",
      "execution_count": 5,
      "id": "a98f9811",
      "metadata": {
        "execution": {
          "iopub.execute_input": "2023-05-19T08:13:22.820236Z",
          "iopub.status.busy": "2023-05-19T08:13:22.819196Z",
          "iopub.status.idle": "2023-05-19T08:13:22.826237Z",
          "shell.execute_reply": "2023-05-19T08:13:22.825265Z"
        },
        "papermill": {
          "duration": 0.020054,
          "end_time": "2023-05-19T08:13:22.828253",
          "exception": false,
          "start_time": "2023-05-19T08:13:22.808199",
          "status": "completed"
        },
        "tags": [],
        "colab": {
          "base_uri": "https://localhost:8080/"
        },
        "id": "a98f9811",
        "outputId": "b970946a-f074-4a60-a6de-fafb2b4344e6"
      },
      "outputs": [
        {
          "output_type": "execute_result",
          "data": {
            "text/plain": [
              "array(['Iris-setosa', 'Iris-versicolor', 'Iris-virginica'], dtype=object)"
            ]
          },
          "metadata": {},
          "execution_count": 5
        }
      ],
      "source": [
        "#let's look at all the different types of iris species.\n",
        "iris_df['species'].unique()"
      ]
    },
    {
      "cell_type": "code",
      "execution_count": 6,
      "id": "493a31c9",
      "metadata": {
        "execution": {
          "iopub.execute_input": "2023-05-19T08:13:22.849546Z",
          "iopub.status.busy": "2023-05-19T08:13:22.849163Z",
          "iopub.status.idle": "2023-05-19T08:13:23.560341Z",
          "shell.execute_reply": "2023-05-19T08:13:23.558945Z"
        },
        "papermill": {
          "duration": 0.724605,
          "end_time": "2023-05-19T08:13:23.562600",
          "exception": false,
          "start_time": "2023-05-19T08:13:22.837995",
          "status": "completed"
        },
        "tags": [],
        "colab": {
          "base_uri": "https://localhost:8080/",
          "height": 521
        },
        "id": "493a31c9",
        "outputId": "243b7cc2-8812-4e4f-e7c8-d67848e84138"
      },
      "outputs": [
        {
          "output_type": "execute_result",
          "data": {
            "text/plain": [
              "array([[<Axes: title={'center': 'sepal_length'}>,\n",
              "        <Axes: title={'center': 'sepal_width'}>],\n",
              "       [<Axes: title={'center': 'petal_length'}>,\n",
              "        <Axes: title={'center': 'petal_width'}>]], dtype=object)"
            ]
          },
          "metadata": {},
          "execution_count": 6
        },
        {
          "output_type": "display_data",
          "data": {
            "text/plain": [
              "<Figure size 640x480 with 4 Axes>"
            ],
            "image/png": "[encoded data removed]"
          },
          "metadata": {}
        }
      ],
      "source": [
        "#Let's look at the distribution of each variable\n",
        "\n",
        "iris_df.hist()"
      ]
    },
    {
      "cell_type": "markdown",
      "id": "079543da",
      "metadata": {
        "papermill": {
          "duration": 0.010065,
          "end_time": "2023-05-19T08:13:23.582968",
          "exception": false,
          "start_time": "2023-05-19T08:13:23.572903",
          "status": "completed"
        },
        "tags": [],
        "id": "079543da"
      },
      "source": [
        "Let's use a boxplot to look at the stats for the data we will use and check for any outliers."
      ]
    },
    {
      "cell_type": "code",
      "execution_count": 7,
      "id": "e878f33b",
      "metadata": {
        "execution": {
          "iopub.execute_input": "2023-05-19T08:13:23.605101Z",
          "iopub.status.busy": "2023-05-19T08:13:23.604681Z",
          "iopub.status.idle": "2023-05-19T08:13:23.882142Z",
          "shell.execute_reply": "2023-05-19T08:13:23.881064Z"
        },
        "papermill": {
          "duration": 0.291289,
          "end_time": "2023-05-19T08:13:23.884390",
          "exception": false,
          "start_time": "2023-05-19T08:13:23.593101",
          "status": "completed"
        },
        "tags": [],
        "colab": {
          "base_uri": "https://localhost:8080/",
          "height": 469
        },
        "id": "e878f33b",
        "outputId": "68778183-ea82-4378-f17a-ac494c3270dd"
      },
      "outputs": [
        {
          "output_type": "execute_result",
          "data": {
            "text/plain": [
              "Text(0, 0.5, 'Centimeters')"
            ]
          },
          "metadata": {},
          "execution_count": 7
        },
        {
          "output_type": "display_data",
          "data": {
            "text/plain": [
              "<Figure size 640x480 with 1 Axes>"
            ],
            "image/png": "[encoded data removed]"
          },
          "metadata": {}
        }
      ],
      "source": [
        "iris_df.plot(kind='box')\n",
        "plt.title('BoxPlot Distribution of Petal and Sepals in CM ')\n",
        "plt.ylabel('Centimeters')"
      ]
    },
    {
      "cell_type": "code",
      "execution_count": 8,
      "id": "339c9824",
      "metadata": {
        "execution": {
          "iopub.execute_input": "2023-05-19T08:13:23.907978Z",
          "iopub.status.busy": "2023-05-19T08:13:23.907569Z",
          "iopub.status.idle": "2023-05-19T08:13:23.929007Z",
          "shell.execute_reply": "2023-05-19T08:13:23.928242Z"
        },
        "papermill": {
          "duration": 0.035643,
          "end_time": "2023-05-19T08:13:23.931115",
          "exception": false,
          "start_time": "2023-05-19T08:13:23.895472",
          "status": "completed"
        },
        "tags": [],
        "colab": {
          "base_uri": "https://localhost:8080/",
          "height": 300
        },
        "id": "339c9824",
        "outputId": "2420dcd7-efd0-4e6c-e6de-9afb4c12cc4a"
      },
      "outputs": [
        {
          "output_type": "execute_result",
          "data": {
            "text/plain": [
              "       sepal_length  sepal_width  petal_length  petal_width\n",
              "count    150.000000   150.000000    150.000000   150.000000\n",
              "mean       5.843333     3.054000      3.758667     1.198667\n",
              "std        0.828066     0.433594      1.764420     0.763161\n",
              "min        4.300000     2.000000      1.000000     0.100000\n",
              "25%        5.100000     2.800000      1.600000     0.300000\n",
              "50%        5.800000     3.000000      4.350000     1.300000\n",
              "75%        6.400000     3.300000      5.100000     1.800000\n",
              "max        7.900000     4.400000      6.900000     2.500000"
            ],
            "text/html": [
              "\n",
              "  <div id=\"df-d82e154c-2c8f-4b2f-97a6-7b7166fad15f\">\n",
              "    <div class=\"colab-df-container\">\n",
              "      <div>\n",
              "<style scoped>\n",
              "    .dataframe tbody tr th:only-of-type {\n",
              "        vertical-align: middle;\n",
              "    }\n",
              "\n",
              "    .dataframe tbody tr th {\n",
              "        vertical-align: top;\n",
              "    }\n",
              "\n",
              "    .dataframe thead th {\n",
              "        text-align: right;\n",
              "    }\n",
              "</style>\n",
              "<table border=\"1\" class=\"dataframe\">\n",
              "  <thead>\n",
              "    <tr style=\"text-align: right;\">\n",
              "      <th></th>\n",
              "      <th>sepal_length</th>\n",
              "      <th>sepal_width</th>\n",
              "      <th>petal_length</th>\n",
              "      <th>petal_width</th>\n",
              "    </tr>\n",
              "  </thead>\n",
              "  <tbody>\n",
              "    <tr>\n",
              "      <th>count</th>\n",
              "      <td>150.000000</td>\n",
              "      <td>150.000000</td>\n",
              "      <td>150.000000</td>\n",
              "      <td>150.000000</td>\n",
              "    </tr>\n",
              "    <tr>\n",
              "      <th>mean</th>\n",
              "      <td>5.843333</td>\n",
              "      <td>3.054000</td>\n",
              "      <td>3.758667</td>\n",
              "      <td>1.198667</td>\n",
              "    </tr>\n",
              "    <tr>\n",
              "      <th>std</th>\n",
              "      <td>0.828066</td>\n",
              "      <td>0.433594</td>\n",
              "      <td>1.764420</td>\n",
              "      <td>0.763161</td>\n",
              "    </tr>\n",
              "    <tr>\n",
              "      <th>min</th>\n",
              "      <td>4.300000</td>\n",
              "      <td>2.000000</td>\n",
              "      <td>1.000000</td>\n",
              "      <td>0.100000</td>\n",
              "    </tr>\n",
              "    <tr>\n",
              "      <th>25%</th>\n",
              "      <td>5.100000</td>\n",
              "      <td>2.800000</td>\n",
              "      <td>1.600000</td>\n",
              "      <td>0.300000</td>\n",
              "    </tr>\n",
              "    <tr>\n",
              "      <th>50%</th>\n",
              "      <td>5.800000</td>\n",
              "      <td>3.000000</td>\n",
              "      <td>4.350000</td>\n",
              "      <td>1.300000</td>\n",
              "    </tr>\n",
              "    <tr>\n",
              "      <th>75%</th>\n",
              "      <td>6.400000</td>\n",
              "      <td>3.300000</td>\n",
              "      <td>5.100000</td>\n",
              "      <td>1.800000</td>\n",
              "    </tr>\n",
              "    <tr>\n",
              "      <th>max</th>\n",
              "      <td>7.900000</td>\n",
              "      <td>4.400000</td>\n",
              "      <td>6.900000</td>\n",
              "      <td>2.500000</td>\n",
              "    </tr>\n",
              "  </tbody>\n",
              "</table>\n",
              "</div>\n",
              "      <button class=\"colab-df-convert\" onclick=\"convertToInteractive('df-d82e154c-2c8f-4b2f-97a6-7b7166fad15f')\"\n",
              "              title=\"Convert this dataframe to an interactive table.\"\n",
              "              style=\"display:none;\">\n",
              "        \n",
              "  <svg xmlns=\"http://www.w3.org/2000/svg\" height=\"24px\"viewBox=\"0 0 24 24\"\n",
              "       width=\"24px\">\n",
              "    <path d=\"M0 0h24v24H0V0z\" fill=\"none\"/>\n",
              "    <path d=\"M18.56 5.44l.94 2.06.94-2.06 2.06-.94-2.06-.94-.94-2.06-.94 2.06-2.06.94zm-11 1L8.5 8.5l.94-2.06 2.06-.94-2.06-.94L8.5 2.5l-.94 2.06-2.06.94zm10 10l.94 2.06.94-2.06 2.06-.94-2.06-.94-.94-2.06-.94 2.06-2.06.94z\"/><path d=\"M17.41 7.96l-1.37-1.37c-.4-.4-.92-.59-1.43-.59-.52 0-1.04.2-1.43.59L10.3 9.45l-7.72 7.72c-.78.78-.78 2.05 0 2.83L4 21.41c.39.39.9.59 1.41.59.51 0 1.02-.2 1.41-.59l7.78-7.78 2.81-2.81c.8-.78.8-2.07 0-2.86zM5.41 20L4 18.59l7.72-7.72 1.47 1.35L5.41 20z\"/>\n",
              "  </svg>\n",
              "      </button>\n",
              "      \n",
              "  <style>\n",
              "    .colab-df-container {\n",
              "      display:flex;\n",
              "      flex-wrap:wrap;\n",
              "      gap: 12px;\n",
              "    }\n",
              "\n",
              "    .colab-df-convert {\n",
              "      background-color: #E8F0FE;\n",
              "      border: none;\n",
              "      border-radius: 50%;\n",
              "      cursor: pointer;\n",
              "      display: none;\n",
              "      fill: #1967D2;\n",
              "      height: 32px;\n",
              "      padding: 0 0 0 0;\n",
              "      width: 32px;\n",
              "    }\n",
              "\n",
              "    .colab-df-convert:hover {\n",
              "      background-color: #E2EBFA;\n",
              "      box-shadow: 0px 1px 2px rgba(60, 64, 67, 0.3), 0px 1px 3px 1px rgba(60, 64, 67, 0.15);\n",
              "      fill: #174EA6;\n",
              "    }\n",
              "\n",
              "    [theme=dark] .colab-df-convert {\n",
              "      background-color: #3B4455;\n",
              "      fill: #D2E3FC;\n",
              "    }\n",
              "\n",
              "    [theme=dark] .colab-df-convert:hover {\n",
              "      background-color: #434B5C;\n",
              "      box-shadow: 0px 1px 3px 1px rgba(0, 0, 0, 0.15);\n",
              "      filter: drop-shadow(0px 1px 2px rgba(0, 0, 0, 0.3));\n",
              "      fill: #FFFFFF;\n",
              "    }\n",
              "  </style>\n",
              "\n",
              "      <script>\n",
              "        const buttonEl =\n",
              "          document.querySelector('#df-d82e154c-2c8f-4b2f-97a6-7b7166fad15f button.colab-df-convert');\n",
              "        buttonEl.style.display =\n",
              "          google.colab.kernel.accessAllowed ? 'block' : 'none';\n",
              "\n",
              "        async function convertToInteractive(key) {\n",
              "          const element = document.querySelector('#df-d82e154c-2c8f-4b2f-97a6-7b7166fad15f');\n",
              "          const dataTable =\n",
              "            await google.colab.kernel.invokeFunction('convertToInteractive',\n",
              "                                                     [key], {});\n",
              "          if (!dataTable) return;\n",
              "\n",
              "          const docLinkHtml = 'Like what you see? Visit the ' +\n",
              "            '<a target=\"_blank\" href=https://colab.research.google.com/notebooks/data_table.ipynb>data table notebook</a>'\n",
              "            + ' to learn more about interactive tables.';\n",
              "          element.innerHTML = '';\n",
              "          dataTable['output_type'] = 'display_data';\n",
              "          await google.colab.output.renderOutput(dataTable, element);\n",
              "          const docLink = document.createElement('div');\n",
              "          docLink.innerHTML = docLinkHtml;\n",
              "          element.appendChild(docLink);\n",
              "        }\n",
              "      </script>\n",
              "    </div>\n",
              "  </div>\n",
              "  "
            ]
          },
          "metadata": {},
          "execution_count": 8
        }
      ],
      "source": [
        "iris_df.describe()"
      ]
    },
    {
      "cell_type": "markdown",
      "id": "bca936a5",
      "metadata": {
        "papermill": {
          "duration": 0.010915,
          "end_time": "2023-05-19T08:13:23.953312",
          "exception": false,
          "start_time": "2023-05-19T08:13:23.942397",
          "status": "completed"
        },
        "tags": [],
        "id": "bca936a5"
      },
      "source": [
        "It seems that the sepal_widthcolumn has some outliers. Let's try to remove them."
      ]
    },
    {
      "cell_type": "code",
      "execution_count": 9,
      "id": "94f05b80",
      "metadata": {
        "execution": {
          "iopub.execute_input": "2023-05-19T08:13:23.977433Z",
          "iopub.status.busy": "2023-05-19T08:13:23.976814Z",
          "iopub.status.idle": "2023-05-19T08:13:24.146292Z",
          "shell.execute_reply": "2023-05-19T08:13:24.144997Z"
        },
        "papermill": {
          "duration": 0.184531,
          "end_time": "2023-05-19T08:13:24.148955",
          "exception": false,
          "start_time": "2023-05-19T08:13:23.964424",
          "status": "completed"
        },
        "tags": [],
        "colab": {
          "base_uri": "https://localhost:8080/",
          "height": 450
        },
        "id": "94f05b80",
        "outputId": "f3ae8496-e63d-434a-8014-e11f6604d1b5"
      },
      "outputs": [
        {
          "output_type": "execute_result",
          "data": {
            "text/plain": [
              "<Axes: >"
            ]
          },
          "metadata": {},
          "execution_count": 9
        },
        {
          "output_type": "display_data",
          "data": {
            "text/plain": [
              "<Figure size 640x480 with 1 Axes>"
            ],
            "image/png": "[encoded data removed]"
          },
          "metadata": {}
        }
      ],
      "source": [
        "iris_df['sepal_width'].plot(kind = 'box')"
      ]
    },
    {
      "cell_type": "code",
      "source": [
        "iris_df[iris_df['sepal_width']>4]"
      ],
      "metadata": {
        "colab": {
          "base_uri": "https://localhost:8080/",
          "height": 143
        },
        "id": "utC5DLmUYJzV",
        "outputId": "93e80548-6869-4405-9e24-ed2c9ccc7084"
      },
      "id": "utC5DLmUYJzV",
      "execution_count": 10,
      "outputs": [
        {
          "output_type": "execute_result",
          "data": {
            "text/plain": [
              "    sepal_length  sepal_width  petal_length  petal_width      species\n",
              "15           5.7          4.4           1.5          0.4  Iris-setosa\n",
              "32           5.2          4.1           1.5          0.1  Iris-setosa\n",
              "33           5.5          4.2           1.4          0.2  Iris-setosa"
            ],
            "text/html": [
              "\n",
              "  <div id=\"df-05631062-0b86-437e-be48-2a41adebea67\">\n",
              "    <div class=\"colab-df-container\">\n",
              "      <div>\n",
              "<style scoped>\n",
              "    .dataframe tbody tr th:only-of-type {\n",
              "        vertical-align: middle;\n",
              "    }\n",
              "\n",
              "    .dataframe tbody tr th {\n",
              "        vertical-align: top;\n",
              "    }\n",
              "\n",
              "    .dataframe thead th {\n",
              "        text-align: right;\n",
              "    }\n",
              "</style>\n",
              "<table border=\"1\" class=\"dataframe\">\n",
              "  <thead>\n",
              "    <tr style=\"text-align: right;\">\n",
              "      <th></th>\n",
              "      <th>sepal_length</th>\n",
              "      <th>sepal_width</th>\n",
              "      <th>petal_length</th>\n",
              "      <th>petal_width</th>\n",
              "      <th>species</th>\n",
              "    </tr>\n",
              "  </thead>\n",
              "  <tbody>\n",
              "    <tr>\n",
              "      <th>15</th>\n",
              "      <td>5.7</td>\n",
              "      <td>4.4</td>\n",
              "      <td>1.5</td>\n",
              "      <td>0.4</td>\n",
              "      <td>Iris-setosa</td>\n",
              "    </tr>\n",
              "    <tr>\n",
              "      <th>32</th>\n",
              "      <td>5.2</td>\n",
              "      <td>4.1</td>\n",
              "      <td>1.5</td>\n",
              "      <td>0.1</td>\n",
              "      <td>Iris-setosa</td>\n",
              "    </tr>\n",
              "    <tr>\n",
              "      <th>33</th>\n",
              "      <td>5.5</td>\n",
              "      <td>4.2</td>\n",
              "      <td>1.4</td>\n",
              "      <td>0.2</td>\n",
              "      <td>Iris-setosa</td>\n",
              "    </tr>\n",
              "  </tbody>\n",
              "</table>\n",
              "</div>\n",
              "      <button class=\"colab-df-convert\" onclick=\"convertToInteractive('df-05631062-0b86-437e-be48-2a41adebea67')\"\n",
              "              title=\"Convert this dataframe to an interactive table.\"\n",
              "              style=\"display:none;\">\n",
              "        \n",
              "  <svg xmlns=\"http://www.w3.org/2000/svg\" height=\"24px\"viewBox=\"0 0 24 24\"\n",
              "       width=\"24px\">\n",
              "    <path d=\"M0 0h24v24H0V0z\" fill=\"none\"/>\n",
              "    <path d=\"M18.56 5.44l.94 2.06.94-2.06 2.06-.94-2.06-.94-.94-2.06-.94 2.06-2.06.94zm-11 1L8.5 8.5l.94-2.06 2.06-.94-2.06-.94L8.5 2.5l-.94 2.06-2.06.94zm10 10l.94 2.06.94-2.06 2.06-.94-2.06-.94-.94-2.06-.94 2.06-2.06.94z\"/><path d=\"M17.41 7.96l-1.37-1.37c-.4-.4-.92-.59-1.43-.59-.52 0-1.04.2-1.43.59L10.3 9.45l-7.72 7.72c-.78.78-.78 2.05 0 2.83L4 21.41c.39.39.9.59 1.41.59.51 0 1.02-.2 1.41-.59l7.78-7.78 2.81-2.81c.8-.78.8-2.07 0-2.86zM5.41 20L4 18.59l7.72-7.72 1.47 1.35L5.41 20z\"/>\n",
              "  </svg>\n",
              "      </button>\n",
              "      \n",
              "  <style>\n",
              "    .colab-df-container {\n",
              "      display:flex;\n",
              "      flex-wrap:wrap;\n",
              "      gap: 12px;\n",
              "    }\n",
              "\n",
              "    .colab-df-convert {\n",
              "      background-color: #E8F0FE;\n",
              "      border: none;\n",
              "      border-radius: 50%;\n",
              "      cursor: pointer;\n",
              "      display: none;\n",
              "      fill: #1967D2;\n",
              "      height: 32px;\n",
              "      padding: 0 0 0 0;\n",
              "      width: 32px;\n",
              "    }\n",
              "\n",
              "    .colab-df-convert:hover {\n",
              "      background-color: #E2EBFA;\n",
              "      box-shadow: 0px 1px 2px rgba(60, 64, 67, 0.3), 0px 1px 3px 1px rgba(60, 64, 67, 0.15);\n",
              "      fill: #174EA6;\n",
              "    }\n",
              "\n",
              "    [theme=dark] .colab-df-convert {\n",
              "      background-color: #3B4455;\n",
              "      fill: #D2E3FC;\n",
              "    }\n",
              "\n",
              "    [theme=dark] .colab-df-convert:hover {\n",
              "      background-color: #434B5C;\n",
              "      box-shadow: 0px 1px 3px 1px rgba(0, 0, 0, 0.15);\n",
              "      filter: drop-shadow(0px 1px 2px rgba(0, 0, 0, 0.3));\n",
              "      fill: #FFFFFF;\n",
              "    }\n",
              "  </style>\n",
              "\n",
              "      <script>\n",
              "        const buttonEl =\n",
              "          document.querySelector('#df-05631062-0b86-437e-be48-2a41adebea67 button.colab-df-convert');\n",
              "        buttonEl.style.display =\n",
              "          google.colab.kernel.accessAllowed ? 'block' : 'none';\n",
              "\n",
              "        async function convertToInteractive(key) {\n",
              "          const element = document.querySelector('#df-05631062-0b86-437e-be48-2a41adebea67');\n",
              "          const dataTable =\n",
              "            await google.colab.kernel.invokeFunction('convertToInteractive',\n",
              "                                                     [key], {});\n",
              "          if (!dataTable) return;\n",
              "\n",
              "          const docLinkHtml = 'Like what you see? Visit the ' +\n",
              "            '<a target=\"_blank\" href=https://colab.research.google.com/notebooks/data_table.ipynb>data table notebook</a>'\n",
              "            + ' to learn more about interactive tables.';\n",
              "          element.innerHTML = '';\n",
              "          dataTable['output_type'] = 'display_data';\n",
              "          await google.colab.output.renderOutput(dataTable, element);\n",
              "          const docLink = document.createElement('div');\n",
              "          docLink.innerHTML = docLinkHtml;\n",
              "          element.appendChild(docLink);\n",
              "        }\n",
              "      </script>\n",
              "    </div>\n",
              "  </div>\n",
              "  "
            ]
          },
          "metadata": {},
          "execution_count": 10
        }
      ]
    },
    {
      "cell_type": "markdown",
      "source": [],
      "metadata": {
        "id": "kTK3qx3tYJlY"
      },
      "id": "kTK3qx3tYJlY"
    },
    {
      "cell_type": "markdown",
      "source": [
        "Z Score : "
      ],
      "metadata": {
        "id": "Q1IbGi3L27li"
      },
      "id": "Q1IbGi3L27li"
    },
    {
      "cell_type": "markdown",
      "id": "b38fb404",
      "metadata": {
        "papermill": {
          "duration": 0.011239,
          "end_time": "2023-05-19T08:13:24.207278",
          "exception": false,
          "start_time": "2023-05-19T08:13:24.196039",
          "status": "completed"
        },
        "tags": [],
        "id": "b38fb404"
      },
      "source": [
        "## Let's look at the distribution of each species type according to sepal length and width"
      ]
    },
    {
      "cell_type": "code",
      "execution_count": 11,
      "id": "e62f8224",
      "metadata": {
        "execution": {
          "iopub.execute_input": "2023-05-19T08:13:24.232249Z",
          "iopub.status.busy": "2023-05-19T08:13:24.231867Z",
          "iopub.status.idle": "2023-05-19T08:13:24.585315Z",
          "shell.execute_reply": "2023-05-19T08:13:24.584079Z"
        },
        "papermill": {
          "duration": 0.368697,
          "end_time": "2023-05-19T08:13:24.587627",
          "exception": false,
          "start_time": "2023-05-19T08:13:24.218930",
          "status": "completed"
        },
        "tags": [],
        "colab": {
          "base_uri": "https://localhost:8080/",
          "height": 564
        },
        "id": "e62f8224",
        "outputId": "0e33dd43-97b7-4f87-ab6e-1d6eabfa2d68"
      },
      "outputs": [
        {
          "output_type": "display_data",
          "data": {
            "text/plain": [
              "<Figure size 1000x600 with 1 Axes>"
            ],
            "image/png": "[encoded data removed]"
          },
          "metadata": {}
        }
      ],
      "source": [
        "fig = iris_df[iris_df.species=='Iris-setosa'].plot(kind=\"scatter\",x='sepal_length',y='sepal_width',color='crimson', label='Setosa')\n",
        "iris_df[iris_df.species=='Iris-versicolor'].plot(kind='scatter',x='sepal_length',y='sepal_width',color='blue', label='Versicolor',ax=fig)\n",
        "iris_df[iris_df.species=='Iris-virginica'].plot(kind='scatter',x='sepal_length',y='sepal_width',color='cyan', label='Virginica', ax=fig)\n",
        "fig.set_xlabel(\"Sepal Length\")\n",
        "fig.set_ylabel(\"Sepal Width\")\n",
        "fig.set_title(\"Sepal Length VS Width\")\n",
        "fig=plt.gcf()\n",
        "fig.set_size_inches(10,6)\n",
        "plt.show()"
      ]
    },
    {
      "cell_type": "markdown",
      "id": "ea5c96d6",
      "metadata": {
        "papermill": {
          "duration": 0.011852,
          "end_time": "2023-05-19T08:13:24.611966",
          "exception": false,
          "start_time": "2023-05-19T08:13:24.600114",
          "status": "completed"
        },
        "tags": [],
        "id": "ea5c96d6"
      },
      "source": [
        "We can see that both sepal width and length varies for all three species. Versicolor and Virginica sepal width are almost just alike. While Setosa sepal length are much shorter but they are broader. on average, Virginca has the longest sepal length."
      ]
    },
    {
      "cell_type": "code",
      "execution_count": 12,
      "id": "83f99345",
      "metadata": {
        "execution": {
          "iopub.execute_input": "2023-05-19T08:13:24.638350Z",
          "iopub.status.busy": "2023-05-19T08:13:24.637497Z",
          "iopub.status.idle": "2023-05-19T08:13:24.964415Z",
          "shell.execute_reply": "2023-05-19T08:13:24.963242Z"
        },
        "papermill": {
          "duration": 0.342893,
          "end_time": "2023-05-19T08:13:24.966939",
          "exception": false,
          "start_time": "2023-05-19T08:13:24.624046",
          "status": "completed"
        },
        "tags": [],
        "colab": {
          "base_uri": "https://localhost:8080/",
          "height": 564
        },
        "id": "83f99345",
        "outputId": "55ffd6bc-844a-40f7-cbe8-5523d0851ce1"
      },
      "outputs": [
        {
          "output_type": "display_data",
          "data": {
            "text/plain": [
              "<Figure size 1000x600 with 1 Axes>"
            ],
            "image/png": "[encoded data removed]"
          },
          "metadata": {}
        }
      ],
      "source": [
        "fig = iris_df[iris_df.species=='Iris-setosa'].plot.scatter(x='petal_length',y='petal_width',color ='cyan', label='Setosa')\n",
        "iris_df[iris_df.species=='Iris-versicolor'].plot.scatter(x='petal_length',y='petal_width',color='blue', label='Versicolor',ax=fig)\n",
        "iris_df[iris_df.species=='Iris-virginica'].plot.scatter(x='petal_length',y='petal_width',color='crimson', label='Virginica', ax=fig)\n",
        "fig.set_xlabel(\"Petal Length\")\n",
        "fig.set_ylabel(\"Petal Width\")\n",
        "fig.set_title(\" Petal Length VS Width\")\n",
        "fig=plt.gcf()\n",
        "fig.set_size_inches(10,6)\n",
        "plt.show()"
      ]
    },
    {
      "cell_type": "markdown",
      "id": "d54930ac",
      "metadata": {
        "papermill": {
          "duration": 0.012887,
          "end_time": "2023-05-19T08:13:24.992818",
          "exception": false,
          "start_time": "2023-05-19T08:13:24.979931",
          "status": "completed"
        },
        "tags": [],
        "id": "d54930ac"
      },
      "source": [
        "Here we can see that distrbution of petal length and width for the three iris species. On Average, the Setosas have a much shorter lenth and width. Next in line is the Versicolor. And then the Virginicas have the longest length and width. We also see a clear poisitive line going up, as the lentgh of the petal increases, so does the petal width. "
      ]
    },
    {
      "cell_type": "markdown",
      "id": "717b5189",
      "metadata": {
        "papermill": {
          "duration": 0.012298,
          "end_time": "2023-05-19T08:13:25.017806",
          "exception": false,
          "start_time": "2023-05-19T08:13:25.005508",
          "status": "completed"
        },
        "tags": [],
        "id": "717b5189"
      },
      "source": [
        "# Are there any Correlations?"
      ]
    },
    {
      "cell_type": "code",
      "execution_count": 13,
      "id": "6b87df65",
      "metadata": {
        "execution": {
          "iopub.execute_input": "2023-05-19T08:13:25.044485Z",
          "iopub.status.busy": "2023-05-19T08:13:25.044065Z",
          "iopub.status.idle": "2023-05-19T08:13:25.386281Z",
          "shell.execute_reply": "2023-05-19T08:13:25.385108Z"
        },
        "papermill": {
          "duration": 0.358506,
          "end_time": "2023-05-19T08:13:25.388788",
          "exception": false,
          "start_time": "2023-05-19T08:13:25.030282",
          "status": "completed"
        },
        "tags": [],
        "colab": {
          "base_uri": "https://localhost:8080/",
          "height": 507
        },
        "id": "6b87df65",
        "outputId": "f5fef378-57d8-4e0b-bc30-5bc3750308cc"
      },
      "outputs": [
        {
          "output_type": "stream",
          "name": "stderr",
          "text": [
            "<ipython-input-13-e8a12bc07b02>:1: FutureWarning: The default value of numeric_only in DataFrame.corr is deprecated. In a future version, it will default to False. Select only valid columns or specify the value of numeric_only to silence this warning.\n",
            "  sns.heatmap(iris_df.corr(), cmap=\"OrRd\")\n"
          ]
        },
        {
          "output_type": "execute_result",
          "data": {
            "text/plain": [
              "<Axes: >"
            ]
          },
          "metadata": {},
          "execution_count": 13
        },
        {
          "output_type": "display_data",
          "data": {
            "text/plain": [
              "<Figure size 640x480 with 2 Axes>"
            ],
            "image/png": "[encoded data removed]"
          },
          "metadata": {}
        }
      ],
      "source": [
        "sns.heatmap(iris_df.corr(), cmap=\"OrRd\")"
      ]
    },
    {
      "cell_type": "markdown",
      "id": "f2746952",
      "metadata": {
        "papermill": {
          "duration": 0.013243,
          "end_time": "2023-05-19T08:13:25.415778",
          "exception": false,
          "start_time": "2023-05-19T08:13:25.402535",
          "status": "completed"
        },
        "tags": [],
        "id": "f2746952"
      },
      "source": [
        "Here we can see a higher correlation among PetalLength with all of the other variables. With this, Petal Length might be a better indicator on how big the blossoms will be this year. We try to predict the petal length for this study.\n",
        "Let's use a regression plot visualize the relationships."
      ]
    },
    {
      "cell_type": "code",
      "execution_count": 14,
      "id": "16081029",
      "metadata": {
        "execution": {
          "iopub.execute_input": "2023-05-19T08:13:25.445051Z",
          "iopub.status.busy": "2023-05-19T08:13:25.443844Z",
          "iopub.status.idle": "2023-05-19T08:13:26.126929Z",
          "shell.execute_reply": "2023-05-19T08:13:26.125780Z"
        },
        "papermill": {
          "duration": 0.700405,
          "end_time": "2023-05-19T08:13:26.129666",
          "exception": false,
          "start_time": "2023-05-19T08:13:25.429261",
          "status": "completed"
        },
        "tags": [],
        "colab": {
          "base_uri": "https://localhost:8080/",
          "height": 327
        },
        "id": "16081029",
        "outputId": "70273030-8aad-49f7-f802-9b18b280cfbe"
      },
      "outputs": [
        {
          "output_type": "execute_result",
          "data": {
            "text/plain": [
              "<Axes: xlabel='sepal_length', ylabel='petal_length'>"
            ]
          },
          "metadata": {},
          "execution_count": 14
        },
        {
          "output_type": "display_data",
          "data": {
            "text/plain": [
              "<Figure size 2500x600 with 2 Axes>"
            ],
            "image/png": "[encoded data removed]"
          },
          "metadata": {}
        }
      ],
      "source": [
        "plt.figure(figsize=(25, 6))\n",
        "#e\n",
        "plt.subplot(1,2,1)\n",
        "sns.regplot(x='petal_width', y='petal_length', data = iris_df)\n",
        "\n",
        "plt.subplot(1,2,2)\n",
        "sns.regplot(x='sepal_length', y='petal_length', data = iris_df)\n"
      ]
    },
    {
      "cell_type": "markdown",
      "id": "6fc49eae",
      "metadata": {
        "papermill": {
          "duration": 0.015236,
          "end_time": "2023-05-19T08:13:26.160302",
          "exception": false,
          "start_time": "2023-05-19T08:13:26.145066",
          "status": "completed"
        },
        "tags": [],
        "id": "6fc49eae"
      },
      "source": [
        "Here we can see that both Petal Width and Sepal Length have a strong positive relationship with Petal Length. As Petal Width and Sepal Width increases so does the Petal Length!"
      ]
    },
    {
      "cell_type": "code",
      "execution_count": 15,
      "id": "bc497edc",
      "metadata": {
        "execution": {
          "iopub.execute_input": "2023-05-19T08:13:26.192295Z",
          "iopub.status.busy": "2023-05-19T08:13:26.191878Z",
          "iopub.status.idle": "2023-05-19T08:13:26.693023Z",
          "shell.execute_reply": "2023-05-19T08:13:26.691718Z"
        },
        "papermill": {
          "duration": 0.520085,
          "end_time": "2023-05-19T08:13:26.695420",
          "exception": false,
          "start_time": "2023-05-19T08:13:26.175335",
          "status": "completed"
        },
        "tags": [],
        "colab": {
          "base_uri": "https://localhost:8080/",
          "height": 467
        },
        "id": "bc497edc",
        "outputId": "dbe780f8-4f06-4b6c-e0d2-e8a2e5928330"
      },
      "outputs": [
        {
          "output_type": "execute_result",
          "data": {
            "text/plain": [
              "<Axes: xlabel='sepal_width', ylabel='petal_length'>"
            ]
          },
          "metadata": {},
          "execution_count": 15
        },
        {
          "output_type": "display_data",
          "data": {
            "text/plain": [
              "<Figure size 640x480 with 1 Axes>"
            ],
            "image/png": "[encoded data removed]"
          },
          "metadata": {}
        }
      ],
      "source": [
        "sns.regplot(x='sepal_width', y='petal_length', data = iris_df)"
      ]
    },
    {
      "cell_type": "markdown",
      "id": "bf47a6e9",
      "metadata": {
        "papermill": {
          "duration": 0.017144,
          "end_time": "2023-05-19T08:13:26.735040",
          "exception": false,
          "start_time": "2023-05-19T08:13:26.717896",
          "status": "completed"
        },
        "tags": [],
        "id": "bf47a6e9"
      },
      "source": [
        "Here we can see a strong negative relationship between Petal Length and Sepal Width. As Petal Length increases, the sepal width decreases! Let's take a look at the p-value."
      ]
    },
    {
      "cell_type": "code",
      "execution_count": 16,
      "id": "1eb48a3d",
      "metadata": {
        "execution": {
          "iopub.execute_input": "2023-05-19T08:13:26.770985Z",
          "iopub.status.busy": "2023-05-19T08:13:26.770563Z",
          "iopub.status.idle": "2023-05-19T08:13:26.777216Z",
          "shell.execute_reply": "2023-05-19T08:13:26.775977Z"
        },
        "papermill": {
          "duration": 0.025928,
          "end_time": "2023-05-19T08:13:26.779337",
          "exception": false,
          "start_time": "2023-05-19T08:13:26.753409",
          "status": "completed"
        },
        "tags": [],
        "id": "1eb48a3d"
      },
      "outputs": [],
      "source": [
        "#p-value test\n",
        "Petal_W_P = pearsonr(iris_df['petal_width'], iris_df['petal_length'])\n",
        "Sepal_W_P = pearsonr(iris_df['sepal_width'], iris_df['petal_length'])\n",
        "Sepal_L_P = pearsonr(iris_df['sepal_length'], iris_df['petal_length'])"
      ]
    },
    {
      "cell_type": "code",
      "execution_count": 17,
      "id": "e3d183a6",
      "metadata": {
        "execution": {
          "iopub.execute_input": "2023-05-19T08:13:26.813615Z",
          "iopub.status.busy": "2023-05-19T08:13:26.812873Z",
          "iopub.status.idle": "2023-05-19T08:13:26.825836Z",
          "shell.execute_reply": "2023-05-19T08:13:26.824844Z"
        },
        "papermill": {
          "duration": 0.032494,
          "end_time": "2023-05-19T08:13:26.827866",
          "exception": false,
          "start_time": "2023-05-19T08:13:26.795372",
          "status": "completed"
        },
        "tags": [],
        "colab": {
          "base_uri": "https://localhost:8080/",
          "height": 112
        },
        "id": "e3d183a6",
        "outputId": "7a5fc8ce-297d-43bc-f6bc-56faf408e641"
      },
      "outputs": [
        {
          "output_type": "execute_result",
          "data": {
            "text/plain": [
              "    petal_width   sepal_width  sepal_length\n",
              "0  9.627571e-01 -4.205161e-01  8.717542e-01\n",
              "1  5.776661e-86  8.429366e-08  1.038454e-47"
            ],
            "text/html": [
              "\n",
              "  <div id=\"df-893373b3-bd64-4b29-aa7e-283d9811daca\">\n",
              "    <div class=\"colab-df-container\">\n",
              "      <div>\n",
              "<style scoped>\n",
              "    .dataframe tbody tr th:only-of-type {\n",
              "        vertical-align: middle;\n",
              "    }\n",
              "\n",
              "    .dataframe tbody tr th {\n",
              "        vertical-align: top;\n",
              "    }\n",
              "\n",
              "    .dataframe thead th {\n",
              "        text-align: right;\n",
              "    }\n",
              "</style>\n",
              "<table border=\"1\" class=\"dataframe\">\n",
              "  <thead>\n",
              "    <tr style=\"text-align: right;\">\n",
              "      <th></th>\n",
              "      <th>petal_width</th>\n",
              "      <th>sepal_width</th>\n",
              "      <th>sepal_length</th>\n",
              "    </tr>\n",
              "  </thead>\n",
              "  <tbody>\n",
              "    <tr>\n",
              "      <th>0</th>\n",
              "      <td>9.627571e-01</td>\n",
              "      <td>-4.205161e-01</td>\n",
              "      <td>8.717542e-01</td>\n",
              "    </tr>\n",
              "    <tr>\n",
              "      <th>1</th>\n",
              "      <td>5.776661e-86</td>\n",
              "      <td>8.429366e-08</td>\n",
              "      <td>1.038454e-47</td>\n",
              "    </tr>\n",
              "  </tbody>\n",
              "</table>\n",
              "</div>\n",
              "      <button class=\"colab-df-convert\" onclick=\"convertToInteractive('df-893373b3-bd64-4b29-aa7e-283d9811daca')\"\n",
              "              title=\"Convert this dataframe to an interactive table.\"\n",
              "              style=\"display:none;\">\n",
              "        \n",
              "  <svg xmlns=\"http://www.w3.org/2000/svg\" height=\"24px\"viewBox=\"0 0 24 24\"\n",
              "       width=\"24px\">\n",
              "    <path d=\"M0 0h24v24H0V0z\" fill=\"none\"/>\n",
              "    <path d=\"M18.56 5.44l.94 2.06.94-2.06 2.06-.94-2.06-.94-.94-2.06-.94 2.06-2.06.94zm-11 1L8.5 8.5l.94-2.06 2.06-.94-2.06-.94L8.5 2.5l-.94 2.06-2.06.94zm10 10l.94 2.06.94-2.06 2.06-.94-2.06-.94-.94-2.06-.94 2.06-2.06.94z\"/><path d=\"M17.41 7.96l-1.37-1.37c-.4-.4-.92-.59-1.43-.59-.52 0-1.04.2-1.43.59L10.3 9.45l-7.72 7.72c-.78.78-.78 2.05 0 2.83L4 21.41c.39.39.9.59 1.41.59.51 0 1.02-.2 1.41-.59l7.78-7.78 2.81-2.81c.8-.78.8-2.07 0-2.86zM5.41 20L4 18.59l7.72-7.72 1.47 1.35L5.41 20z\"/>\n",
              "  </svg>\n",
              "      </button>\n",
              "      \n",
              "  <style>\n",
              "    .colab-df-container {\n",
              "      display:flex;\n",
              "      flex-wrap:wrap;\n",
              "      gap: 12px;\n",
              "    }\n",
              "\n",
              "    .colab-df-convert {\n",
              "      background-color: #E8F0FE;\n",
              "      border: none;\n",
              "      border-radius: 50%;\n",
              "      cursor: pointer;\n",
              "      display: none;\n",
              "      fill: #1967D2;\n",
              "      height: 32px;\n",
              "      padding: 0 0 0 0;\n",
              "      width: 32px;\n",
              "    }\n",
              "\n",
              "    .colab-df-convert:hover {\n",
              "      background-color: #E2EBFA;\n",
              "      box-shadow: 0px 1px 2px rgba(60, 64, 67, 0.3), 0px 1px 3px 1px rgba(60, 64, 67, 0.15);\n",
              "      fill: #174EA6;\n",
              "    }\n",
              "\n",
              "    [theme=dark] .colab-df-convert {\n",
              "      background-color: #3B4455;\n",
              "      fill: #D2E3FC;\n",
              "    }\n",
              "\n",
              "    [theme=dark] .colab-df-convert:hover {\n",
              "      background-color: #434B5C;\n",
              "      box-shadow: 0px 1px 3px 1px rgba(0, 0, 0, 0.15);\n",
              "      filter: drop-shadow(0px 1px 2px rgba(0, 0, 0, 0.3));\n",
              "      fill: #FFFFFF;\n",
              "    }\n",
              "  </style>\n",
              "\n",
              "      <script>\n",
              "        const buttonEl =\n",
              "          document.querySelector('#df-893373b3-bd64-4b29-aa7e-283d9811daca button.colab-df-convert');\n",
              "        buttonEl.style.display =\n",
              "          google.colab.kernel.accessAllowed ? 'block' : 'none';\n",
              "\n",
              "        async function convertToInteractive(key) {\n",
              "          const element = document.querySelector('#df-893373b3-bd64-4b29-aa7e-283d9811daca');\n",
              "          const dataTable =\n",
              "            await google.colab.kernel.invokeFunction('convertToInteractive',\n",
              "                                                     [key], {});\n",
              "          if (!dataTable) return;\n",
              "\n",
              "          const docLinkHtml = 'Like what you see? Visit the ' +\n",
              "            '<a target=\"_blank\" href=https://colab.research.google.com/notebooks/data_table.ipynb>data table notebook</a>'\n",
              "            + ' to learn more about interactive tables.';\n",
              "          element.innerHTML = '';\n",
              "          dataTable['output_type'] = 'display_data';\n",
              "          await google.colab.output.renderOutput(dataTable, element);\n",
              "          const docLink = document.createElement('div');\n",
              "          docLink.innerHTML = docLinkHtml;\n",
              "          element.appendChild(docLink);\n",
              "        }\n",
              "      </script>\n",
              "    </div>\n",
              "  </div>\n",
              "  "
            ]
          },
          "metadata": {},
          "execution_count": 17
        }
      ],
      "source": [
        "p_value_t = pd.DataFrame({'petal_width': Petal_W_P, 'sepal_width': Sepal_W_P, 'sepal_length': Sepal_L_P})\n",
        "p_value_t\n"
      ]
    },
    {
      "cell_type": "markdown",
      "id": "83218cd0",
      "metadata": {
        "papermill": {
          "duration": 0.025984,
          "end_time": "2023-05-19T08:13:26.869753",
          "exception": false,
          "start_time": "2023-05-19T08:13:26.843769",
          "status": "completed"
        },
        "tags": [],
        "id": "83218cd0"
      },
      "source": [
        "We can see that p-value scores are all below 0.05, so it can be concluded that the results(relationships) are statistically significant.\n"
      ]
    },
    {
      "cell_type": "markdown",
      "id": "74ec7d3d",
      "metadata": {
        "papermill": {
          "duration": 0.01567,
          "end_time": "2023-05-19T08:13:26.903777",
          "exception": false,
          "start_time": "2023-05-19T08:13:26.888107",
          "status": "completed"
        },
        "tags": [],
        "id": "74ec7d3d"
      },
      "source": [
        "# Model"
      ]
    },
    {
      "cell_type": "code",
      "source": [
        "species_2 = pd.get_dummies(iris_df['species'], drop_first=True)\n",
        "species_2"
      ],
      "metadata": {
        "colab": {
          "base_uri": "https://localhost:8080/",
          "height": 423
        },
        "id": "I5NklXr1fsHj",
        "outputId": "881cf6b4-146a-433b-cf3d-7cbfbcf95854"
      },
      "id": "I5NklXr1fsHj",
      "execution_count": 18,
      "outputs": [
        {
          "output_type": "execute_result",
          "data": {
            "text/plain": [
              "     Iris-versicolor  Iris-virginica\n",
              "0                  0               0\n",
              "1                  0               0\n",
              "2                  0               0\n",
              "3                  0               0\n",
              "4                  0               0\n",
              "..               ...             ...\n",
              "145                0               1\n",
              "146                0               1\n",
              "147                0               1\n",
              "148                0               1\n",
              "149                0               1\n",
              "\n",
              "[150 rows x 2 columns]"
            ],
            "text/html": [
              "\n",
              "  <div id=\"df-53d17052-4228-4ebe-a20c-d6e31890da05\">\n",
              "    <div class=\"colab-df-container\">\n",
              "      <div>\n",
              "<style scoped>\n",
              "    .dataframe tbody tr th:only-of-type {\n",
              "        vertical-align: middle;\n",
              "    }\n",
              "\n",
              "    .dataframe tbody tr th {\n",
              "        vertical-align: top;\n",
              "    }\n",
              "\n",
              "    .dataframe thead th {\n",
              "        text-align: right;\n",
              "    }\n",
              "</style>\n",
              "<table border=\"1\" class=\"dataframe\">\n",
              "  <thead>\n",
              "    <tr style=\"text-align: right;\">\n",
              "      <th></th>\n",
              "      <th>Iris-versicolor</th>\n",
              "      <th>Iris-virginica</th>\n",
              "    </tr>\n",
              "  </thead>\n",
              "  <tbody>\n",
              "    <tr>\n",
              "      <th>0</th>\n",
              "      <td>0</td>\n",
              "      <td>0</td>\n",
              "    </tr>\n",
              "    <tr>\n",
              "      <th>1</th>\n",
              "      <td>0</td>\n",
              "      <td>0</td>\n",
              "    </tr>\n",
              "    <tr>\n",
              "      <th>2</th>\n",
              "      <td>0</td>\n",
              "      <td>0</td>\n",
              "    </tr>\n",
              "    <tr>\n",
              "      <th>3</th>\n",
              "      <td>0</td>\n",
              "      <td>0</td>\n",
              "    </tr>\n",
              "    <tr>\n",
              "      <th>4</th>\n",
              "      <td>0</td>\n",
              "      <td>0</td>\n",
              "    </tr>\n",
              "    <tr>\n",
              "      <th>...</th>\n",
              "      <td>...</td>\n",
              "      <td>...</td>\n",
              "    </tr>\n",
              "    <tr>\n",
              "      <th>145</th>\n",
              "      <td>0</td>\n",
              "      <td>1</td>\n",
              "    </tr>\n",
              "    <tr>\n",
              "      <th>146</th>\n",
              "      <td>0</td>\n",
              "      <td>1</td>\n",
              "    </tr>\n",
              "    <tr>\n",
              "      <th>147</th>\n",
              "      <td>0</td>\n",
              "      <td>1</td>\n",
              "    </tr>\n",
              "    <tr>\n",
              "      <th>148</th>\n",
              "      <td>0</td>\n",
              "      <td>1</td>\n",
              "    </tr>\n",
              "    <tr>\n",
              "      <th>149</th>\n",
              "      <td>0</td>\n",
              "      <td>1</td>\n",
              "    </tr>\n",
              "  </tbody>\n",
              "</table>\n",
              "<p>150 rows × 2 columns</p>\n",
              "</div>\n",
              "      <button class=\"colab-df-convert\" onclick=\"convertToInteractive('df-53d17052-4228-4ebe-a20c-d6e31890da05')\"\n",
              "              title=\"Convert this dataframe to an interactive table.\"\n",
              "              style=\"display:none;\">\n",
              "        \n",
              "  <svg xmlns=\"http://www.w3.org/2000/svg\" height=\"24px\"viewBox=\"0 0 24 24\"\n",
              "       width=\"24px\">\n",
              "    <path d=\"M0 0h24v24H0V0z\" fill=\"none\"/>\n",
              "    <path d=\"M18.56 5.44l.94 2.06.94-2.06 2.06-.94-2.06-.94-.94-2.06-.94 2.06-2.06.94zm-11 1L8.5 8.5l.94-2.06 2.06-.94-2.06-.94L8.5 2.5l-.94 2.06-2.06.94zm10 10l.94 2.06.94-2.06 2.06-.94-2.06-.94-.94-2.06-.94 2.06-2.06.94z\"/><path d=\"M17.41 7.96l-1.37-1.37c-.4-.4-.92-.59-1.43-.59-.52 0-1.04.2-1.43.59L10.3 9.45l-7.72 7.72c-.78.78-.78 2.05 0 2.83L4 21.41c.39.39.9.59 1.41.59.51 0 1.02-.2 1.41-.59l7.78-7.78 2.81-2.81c.8-.78.8-2.07 0-2.86zM5.41 20L4 18.59l7.72-7.72 1.47 1.35L5.41 20z\"/>\n",
              "  </svg>\n",
              "      </button>\n",
              "      \n",
              "  <style>\n",
              "    .colab-df-container {\n",
              "      display:flex;\n",
              "      flex-wrap:wrap;\n",
              "      gap: 12px;\n",
              "    }\n",
              "\n",
              "    .colab-df-convert {\n",
              "      background-color: #E8F0FE;\n",
              "      border: none;\n",
              "      border-radius: 50%;\n",
              "      cursor: pointer;\n",
              "      display: none;\n",
              "      fill: #1967D2;\n",
              "      height: 32px;\n",
              "      padding: 0 0 0 0;\n",
              "      width: 32px;\n",
              "    }\n",
              "\n",
              "    .colab-df-convert:hover {\n",
              "      background-color: #E2EBFA;\n",
              "      box-shadow: 0px 1px 2px rgba(60, 64, 67, 0.3), 0px 1px 3px 1px rgba(60, 64, 67, 0.15);\n",
              "      fill: #174EA6;\n",
              "    }\n",
              "\n",
              "    [theme=dark] .colab-df-convert {\n",
              "      background-color: #3B4455;\n",
              "      fill: #D2E3FC;\n",
              "    }\n",
              "\n",
              "    [theme=dark] .colab-df-convert:hover {\n",
              "      background-color: #434B5C;\n",
              "      box-shadow: 0px 1px 3px 1px rgba(0, 0, 0, 0.15);\n",
              "      filter: drop-shadow(0px 1px 2px rgba(0, 0, 0, 0.3));\n",
              "      fill: #FFFFFF;\n",
              "    }\n",
              "  </style>\n",
              "\n",
              "      <script>\n",
              "        const buttonEl =\n",
              "          document.querySelector('#df-53d17052-4228-4ebe-a20c-d6e31890da05 button.colab-df-convert');\n",
              "        buttonEl.style.display =\n",
              "          google.colab.kernel.accessAllowed ? 'block' : 'none';\n",
              "\n",
              "        async function convertToInteractive(key) {\n",
              "          const element = document.querySelector('#df-53d17052-4228-4ebe-a20c-d6e31890da05');\n",
              "          const dataTable =\n",
              "            await google.colab.kernel.invokeFunction('convertToInteractive',\n",
              "                                                     [key], {});\n",
              "          if (!dataTable) return;\n",
              "\n",
              "          const docLinkHtml = 'Like what you see? Visit the ' +\n",
              "            '<a target=\"_blank\" href=https://colab.research.google.com/notebooks/data_table.ipynb>data table notebook</a>'\n",
              "            + ' to learn more about interactive tables.';\n",
              "          element.innerHTML = '';\n",
              "          dataTable['output_type'] = 'display_data';\n",
              "          await google.colab.output.renderOutput(dataTable, element);\n",
              "          const docLink = document.createElement('div');\n",
              "          docLink.innerHTML = docLinkHtml;\n",
              "          element.appendChild(docLink);\n",
              "        }\n",
              "      </script>\n",
              "    </div>\n",
              "  </div>\n",
              "  "
            ]
          },
          "metadata": {},
          "execution_count": 18
        }
      ]
    },
    {
      "cell_type": "code",
      "execution_count": 19,
      "id": "a02c2482",
      "metadata": {
        "execution": {
          "iopub.execute_input": "2023-05-19T08:13:26.937928Z",
          "iopub.status.busy": "2023-05-19T08:13:26.937136Z",
          "iopub.status.idle": "2023-05-19T08:13:26.947350Z",
          "shell.execute_reply": "2023-05-19T08:13:26.946323Z"
        },
        "papermill": {
          "duration": 0.029883,
          "end_time": "2023-05-19T08:13:26.949515",
          "exception": false,
          "start_time": "2023-05-19T08:13:26.919632",
          "status": "completed"
        },
        "tags": [],
        "id": "a02c2482"
      },
      "outputs": [],
      "source": [
        "#let's prepare the data for testing and training\n",
        "\n",
        "#one hot coding \n",
        "species_2 = pd.get_dummies(iris_df['species'], drop_first=True)\n",
        "\n",
        "X = pd.concat([species_2, iris_df[['petal_width', 'sepal_width', 'sepal_length']]], axis=1)\n",
        "y = iris_df['petal_length']\n"
      ]
    },
    {
      "cell_type": "code",
      "source": [
        "X"
      ],
      "metadata": {
        "colab": {
          "base_uri": "https://localhost:8080/",
          "height": 423
        },
        "id": "Vvq-xrhGhAlr",
        "outputId": "b0cb8ea4-5ab1-4397-eaa8-d9b9ee006de0"
      },
      "id": "Vvq-xrhGhAlr",
      "execution_count": 20,
      "outputs": [
        {
          "output_type": "execute_result",
          "data": {
            "text/plain": [
              "     Iris-versicolor  Iris-virginica  petal_width  sepal_width  sepal_length\n",
              "0                  0               0          0.2          3.5           5.1\n",
              "1                  0               0          0.2          3.0           4.9\n",
              "2                  0               0          0.2          3.2           4.7\n",
              "3                  0               0          0.2          3.1           4.6\n",
              "4                  0               0          0.2          3.6           5.0\n",
              "..               ...             ...          ...          ...           ...\n",
              "145                0               1          2.3          3.0           6.7\n",
              "146                0               1          1.9          2.5           6.3\n",
              "147                0               1          2.0          3.0           6.5\n",
              "148                0               1          2.3          3.4           6.2\n",
              "149                0               1          1.8          3.0           5.9\n",
              "\n",
              "[150 rows x 5 columns]"
            ],
            "text/html": [
              "\n",
              "  <div id=\"df-6cac08f8-416e-4b4d-99cb-f0caacbe749f\">\n",
              "    <div class=\"colab-df-container\">\n",
              "      <div>\n",
              "<style scoped>\n",
              "    .dataframe tbody tr th:only-of-type {\n",
              "        vertical-align: middle;\n",
              "    }\n",
              "\n",
              "    .dataframe tbody tr th {\n",
              "        vertical-align: top;\n",
              "    }\n",
              "\n",
              "    .dataframe thead th {\n",
              "        text-align: right;\n",
              "    }\n",
              "</style>\n",
              "<table border=\"1\" class=\"dataframe\">\n",
              "  <thead>\n",
              "    <tr style=\"text-align: right;\">\n",
              "      <th></th>\n",
              "      <th>Iris-versicolor</th>\n",
              "      <th>Iris-virginica</th>\n",
              "      <th>petal_width</th>\n",
              "      <th>sepal_width</th>\n",
              "      <th>sepal_length</th>\n",
              "    </tr>\n",
              "  </thead>\n",
              "  <tbody>\n",
              "    <tr>\n",
              "      <th>0</th>\n",
              "      <td>0</td>\n",
              "      <td>0</td>\n",
              "      <td>0.2</td>\n",
              "      <td>3.5</td>\n",
              "      <td>5.1</td>\n",
              "    </tr>\n",
              "    <tr>\n",
              "      <th>1</th>\n",
              "      <td>0</td>\n",
              "      <td>0</td>\n",
              "      <td>0.2</td>\n",
              "      <td>3.0</td>\n",
              "      <td>4.9</td>\n",
              "    </tr>\n",
              "    <tr>\n",
              "      <th>2</th>\n",
              "      <td>0</td>\n",
              "      <td>0</td>\n",
              "      <td>0.2</td>\n",
              "      <td>3.2</td>\n",
              "      <td>4.7</td>\n",
              "    </tr>\n",
              "    <tr>\n",
              "      <th>3</th>\n",
              "      <td>0</td>\n",
              "      <td>0</td>\n",
              "      <td>0.2</td>\n",
              "      <td>3.1</td>\n",
              "      <td>4.6</td>\n",
              "    </tr>\n",
              "    <tr>\n",
              "      <th>4</th>\n",
              "      <td>0</td>\n",
              "      <td>0</td>\n",
              "      <td>0.2</td>\n",
              "      <td>3.6</td>\n",
              "      <td>5.0</td>\n",
              "    </tr>\n",
              "    <tr>\n",
              "      <th>...</th>\n",
              "      <td>...</td>\n",
              "      <td>...</td>\n",
              "      <td>...</td>\n",
              "      <td>...</td>\n",
              "      <td>...</td>\n",
              "    </tr>\n",
              "    <tr>\n",
              "      <th>145</th>\n",
              "      <td>0</td>\n",
              "      <td>1</td>\n",
              "      <td>2.3</td>\n",
              "      <td>3.0</td>\n",
              "      <td>6.7</td>\n",
              "    </tr>\n",
              "    <tr>\n",
              "      <th>146</th>\n",
              "      <td>0</td>\n",
              "      <td>1</td>\n",
              "      <td>1.9</td>\n",
              "      <td>2.5</td>\n",
              "      <td>6.3</td>\n",
              "    </tr>\n",
              "    <tr>\n",
              "      <th>147</th>\n",
              "      <td>0</td>\n",
              "      <td>1</td>\n",
              "      <td>2.0</td>\n",
              "      <td>3.0</td>\n",
              "      <td>6.5</td>\n",
              "    </tr>\n",
              "    <tr>\n",
              "      <th>148</th>\n",
              "      <td>0</td>\n",
              "      <td>1</td>\n",
              "      <td>2.3</td>\n",
              "      <td>3.4</td>\n",
              "      <td>6.2</td>\n",
              "    </tr>\n",
              "    <tr>\n",
              "      <th>149</th>\n",
              "      <td>0</td>\n",
              "      <td>1</td>\n",
              "      <td>1.8</td>\n",
              "      <td>3.0</td>\n",
              "      <td>5.9</td>\n",
              "    </tr>\n",
              "  </tbody>\n",
              "</table>\n",
              "<p>150 rows × 5 columns</p>\n",
              "</div>\n",
              "      <button class=\"colab-df-convert\" onclick=\"convertToInteractive('df-6cac08f8-416e-4b4d-99cb-f0caacbe749f')\"\n",
              "              title=\"Convert this dataframe to an interactive table.\"\n",
              "              style=\"display:none;\">\n",
              "        \n",
              "  <svg xmlns=\"http://www.w3.org/2000/svg\" height=\"24px\"viewBox=\"0 0 24 24\"\n",
              "       width=\"24px\">\n",
              "    <path d=\"M0 0h24v24H0V0z\" fill=\"none\"/>\n",
              "    <path d=\"M18.56 5.44l.94 2.06.94-2.06 2.06-.94-2.06-.94-.94-2.06-.94 2.06-2.06.94zm-11 1L8.5 8.5l.94-2.06 2.06-.94-2.06-.94L8.5 2.5l-.94 2.06-2.06.94zm10 10l.94 2.06.94-2.06 2.06-.94-2.06-.94-.94-2.06-.94 2.06-2.06.94z\"/><path d=\"M17.41 7.96l-1.37-1.37c-.4-.4-.92-.59-1.43-.59-.52 0-1.04.2-1.43.59L10.3 9.45l-7.72 7.72c-.78.78-.78 2.05 0 2.83L4 21.41c.39.39.9.59 1.41.59.51 0 1.02-.2 1.41-.59l7.78-7.78 2.81-2.81c.8-.78.8-2.07 0-2.86zM5.41 20L4 18.59l7.72-7.72 1.47 1.35L5.41 20z\"/>\n",
              "  </svg>\n",
              "      </button>\n",
              "      \n",
              "  <style>\n",
              "    .colab-df-container {\n",
              "      display:flex;\n",
              "      flex-wrap:wrap;\n",
              "      gap: 12px;\n",
              "    }\n",
              "\n",
              "    .colab-df-convert {\n",
              "      background-color: #E8F0FE;\n",
              "      border: none;\n",
              "      border-radius: 50%;\n",
              "      cursor: pointer;\n",
              "      display: none;\n",
              "      fill: #1967D2;\n",
              "      height: 32px;\n",
              "      padding: 0 0 0 0;\n",
              "      width: 32px;\n",
              "    }\n",
              "\n",
              "    .colab-df-convert:hover {\n",
              "      background-color: #E2EBFA;\n",
              "      box-shadow: 0px 1px 2px rgba(60, 64, 67, 0.3), 0px 1px 3px 1px rgba(60, 64, 67, 0.15);\n",
              "      fill: #174EA6;\n",
              "    }\n",
              "\n",
              "    [theme=dark] .colab-df-convert {\n",
              "      background-color: #3B4455;\n",
              "      fill: #D2E3FC;\n",
              "    }\n",
              "\n",
              "    [theme=dark] .colab-df-convert:hover {\n",
              "      background-color: #434B5C;\n",
              "      box-shadow: 0px 1px 3px 1px rgba(0, 0, 0, 0.15);\n",
              "      filter: drop-shadow(0px 1px 2px rgba(0, 0, 0, 0.3));\n",
              "      fill: #FFFFFF;\n",
              "    }\n",
              "  </style>\n",
              "\n",
              "      <script>\n",
              "        const buttonEl =\n",
              "          document.querySelector('#df-6cac08f8-416e-4b4d-99cb-f0caacbe749f button.colab-df-convert');\n",
              "        buttonEl.style.display =\n",
              "          google.colab.kernel.accessAllowed ? 'block' : 'none';\n",
              "\n",
              "        async function convertToInteractive(key) {\n",
              "          const element = document.querySelector('#df-6cac08f8-416e-4b4d-99cb-f0caacbe749f');\n",
              "          const dataTable =\n",
              "            await google.colab.kernel.invokeFunction('convertToInteractive',\n",
              "                                                     [key], {});\n",
              "          if (!dataTable) return;\n",
              "\n",
              "          const docLinkHtml = 'Like what you see? Visit the ' +\n",
              "            '<a target=\"_blank\" href=https://colab.research.google.com/notebooks/data_table.ipynb>data table notebook</a>'\n",
              "            + ' to learn more about interactive tables.';\n",
              "          element.innerHTML = '';\n",
              "          dataTable['output_type'] = 'display_data';\n",
              "          await google.colab.output.renderOutput(dataTable, element);\n",
              "          const docLink = document.createElement('div');\n",
              "          docLink.innerHTML = docLinkHtml;\n",
              "          element.appendChild(docLink);\n",
              "        }\n",
              "      </script>\n",
              "    </div>\n",
              "  </div>\n",
              "  "
            ]
          },
          "metadata": {},
          "execution_count": 20
        }
      ]
    },
    {
      "cell_type": "code",
      "source": [
        "y"
      ],
      "metadata": {
        "colab": {
          "base_uri": "https://localhost:8080/"
        },
        "id": "IgubRNBsh7qW",
        "outputId": "398a04f5-4479-4733-c5cc-6fb6b06d2328"
      },
      "id": "IgubRNBsh7qW",
      "execution_count": 21,
      "outputs": [
        {
          "output_type": "execute_result",
          "data": {
            "text/plain": [
              "0      1.4\n",
              "1      1.4\n",
              "2      1.3\n",
              "3      1.5\n",
              "4      1.4\n",
              "      ... \n",
              "145    5.2\n",
              "146    5.0\n",
              "147    5.2\n",
              "148    5.4\n",
              "149    5.1\n",
              "Name: petal_length, Length: 150, dtype: float64"
            ]
          },
          "metadata": {},
          "execution_count": 21
        }
      ]
    },
    {
      "cell_type": "code",
      "source": [],
      "metadata": {
        "id": "_y6lKlCFh_oj"
      },
      "id": "_y6lKlCFh_oj",
      "execution_count": 21,
      "outputs": []
    },
    {
      "cell_type": "code",
      "execution_count": 22,
      "id": "68f8f1c7",
      "metadata": {
        "execution": {
          "iopub.execute_input": "2023-05-19T08:13:26.984673Z",
          "iopub.status.busy": "2023-05-19T08:13:26.983956Z",
          "iopub.status.idle": "2023-05-19T08:13:27.689949Z",
          "shell.execute_reply": "2023-05-19T08:13:27.688738Z"
        },
        "papermill": {
          "duration": 0.727212,
          "end_time": "2023-05-19T08:13:27.692809",
          "exception": false,
          "start_time": "2023-05-19T08:13:26.965597",
          "status": "completed"
        },
        "tags": [],
        "id": "68f8f1c7"
      },
      "outputs": [],
      "source": [
        "#import all the neccesary libraries we will use \n",
        "from sklearn.linear_model import LinearRegression\n",
        "from sklearn.model_selection import train_test_split\n",
        "from sklearn.ensemble import RandomForestRegressor\n",
        "from sklearn.tree import DecisionTreeRegressor\n",
        "from sklearn.neighbors import KNeighborsRegressor\n",
        "from sklearn.preprocessing import StandardScaler, PolynomialFeatures \n",
        "from sklearn.pipeline import Pipeline\n",
        "#from sklearn.linear_model import Ridge\n",
        "from sklearn.metrics import r2_score\n",
        "from sklearn import metrics\n",
        "\n",
        "# By standardizing the features, you ensure that they are all on a similar scale, \n",
        "# which can improve the performance of the algorithm and make it more fair to all the features."
      ]
    },
    {
      "cell_type": "code",
      "execution_count": 23,
      "id": "a6c48ca2",
      "metadata": {
        "execution": {
          "iopub.execute_input": "2023-05-19T08:13:27.727259Z",
          "iopub.status.busy": "2023-05-19T08:13:27.726839Z",
          "iopub.status.idle": "2023-05-19T08:13:27.733999Z",
          "shell.execute_reply": "2023-05-19T08:13:27.733217Z"
        },
        "papermill": {
          "duration": 0.026797,
          "end_time": "2023-05-19T08:13:27.735986",
          "exception": false,
          "start_time": "2023-05-19T08:13:27.709189",
          "status": "completed"
        },
        "tags": [],
        "id": "a6c48ca2"
      },
      "outputs": [],
      "source": [
        "#lets first split the data into training and spliting\n",
        "\n",
        "train_X, test_X, train_y, test_y = train_test_split(X,y, random_state = 0)"
      ]
    },
    {
      "cell_type": "code",
      "source": [
        "print(train_X.shape, test_X.shape, train_y.shape, test_y.shape)"
      ],
      "metadata": {
        "colab": {
          "base_uri": "https://localhost:8080/"
        },
        "id": "n4uaEDGXkDe1",
        "outputId": "c9096dc9-24ae-478c-a8e5-6da9f061a0a6"
      },
      "id": "n4uaEDGXkDe1",
      "execution_count": 24,
      "outputs": [
        {
          "output_type": "stream",
          "name": "stdout",
          "text": [
            "(112, 5) (38, 5) (112,) (38,)\n"
          ]
        }
      ]
    },
    {
      "cell_type": "code",
      "execution_count": 25,
      "id": "0cc02ac7",
      "metadata": {
        "execution": {
          "iopub.execute_input": "2023-05-19T08:13:27.770278Z",
          "iopub.status.busy": "2023-05-19T08:13:27.769632Z",
          "iopub.status.idle": "2023-05-19T08:13:27.803332Z",
          "shell.execute_reply": "2023-05-19T08:13:27.802080Z"
        },
        "papermill": {
          "duration": 0.053769,
          "end_time": "2023-05-19T08:13:27.805735",
          "exception": false,
          "start_time": "2023-05-19T08:13:27.751966",
          "status": "completed"
        },
        "tags": [],
        "id": "0cc02ac7"
      },
      "outputs": [],
      "source": [
        "#Let's start with multilinear regression\n",
        "Input = [('scaler', StandardScaler()),('mode', LinearRegression())]\n",
        "pipe = Pipeline(Input)\n",
        "pipe.fit(train_X, train_y)\n",
        "pipe_y = pipe.predict(test_X)\n",
        "ml_score = pipe.score(test_X, test_y)"
      ]
    },
    {
      "cell_type": "code",
      "source": [
        "ml_score"
      ],
      "metadata": {
        "colab": {
          "base_uri": "https://localhost:8080/"
        },
        "id": "mjmXbAUNk4Nw",
        "outputId": "f4a6e06d-dd5b-46fc-86f6-b90f024a3453"
      },
      "id": "mjmXbAUNk4Nw",
      "execution_count": 26,
      "outputs": [
        {
          "output_type": "execute_result",
          "data": {
            "text/plain": [
              "0.9634012405176948"
            ]
          },
          "metadata": {},
          "execution_count": 26
        }
      ]
    },
    {
      "cell_type": "code",
      "execution_count": 27,
      "id": "1bf042e5",
      "metadata": {
        "execution": {
          "iopub.execute_input": "2023-05-19T08:13:27.952311Z",
          "iopub.status.busy": "2023-05-19T08:13:27.951539Z",
          "iopub.status.idle": "2023-05-19T08:13:28.137379Z",
          "shell.execute_reply": "2023-05-19T08:13:28.136244Z"
        },
        "papermill": {
          "duration": 0.205667,
          "end_time": "2023-05-19T08:13:28.139921",
          "exception": false,
          "start_time": "2023-05-19T08:13:27.934254",
          "status": "completed"
        },
        "tags": [],
        "id": "1bf042e5"
      },
      "outputs": [],
      "source": [
        "#How about a RandomForest tree \n",
        "Input = [('scaler', StandardScaler()), ('mode', RandomForestRegressor())]\n",
        "pipe = Pipeline(Input)\n",
        "pipe.fit(train_X, train_y)\n",
        "rf_predictions = pipe.predict(test_X)\n",
        "rf_score = pipe.score(test_X, test_y)"
      ]
    },
    {
      "cell_type": "code",
      "source": [
        "rf_score"
      ],
      "metadata": {
        "colab": {
          "base_uri": "https://localhost:8080/"
        },
        "id": "Ai2pTV_hlNbc",
        "outputId": "41857368-a641-4726-c1d0-43dc3bec4436"
      },
      "id": "Ai2pTV_hlNbc",
      "execution_count": 28,
      "outputs": [
        {
          "output_type": "execute_result",
          "data": {
            "text/plain": [
              "0.968905389219452"
            ]
          },
          "metadata": {},
          "execution_count": 28
        }
      ]
    },
    {
      "cell_type": "code",
      "source": [
        "pipe"
      ],
      "metadata": {
        "colab": {
          "base_uri": "https://localhost:8080/",
          "height": 125
        },
        "id": "SrXSfRpXlrgz",
        "outputId": "1acf16a2-6adb-4641-cadc-cbc53cf3e905"
      },
      "id": "SrXSfRpXlrgz",
      "execution_count": 29,
      "outputs": [
        {
          "output_type": "execute_result",
          "data": {
            "text/plain": [
              "Pipeline(steps=[('scaler', StandardScaler()),\n",
              "                ('mode', RandomForestRegressor())])"
            ],
            "text/html": [
              "<style>#sk-container-id-1 {color: black;background-color: white;}#sk-container-id-1 pre{padding: 0;}#sk-container-id-1 div.sk-toggleable {background-color: white;}#sk-container-id-1 label.sk-toggleable__label {cursor: pointer;display: block;width: 100%;margin-bottom: 0;padding: 0.3em;box-sizing: border-box;text-align: center;}#sk-container-id-1 label.sk-toggleable__label-arrow:before {content: \"▸\";float: left;margin-right: 0.25em;color: #696969;}#sk-container-id-1 label.sk-toggleable__label-arrow:hover:before {color: black;}#sk-container-id-1 div.sk-estimator:hover label.sk-toggleable__label-arrow:before {color: black;}#sk-container-id-1 div.sk-toggleable__content {max-height: 0;max-width: 0;overflow: hidden;text-align: left;background-color: #f0f8ff;}#sk-container-id-1 div.sk-toggleable__content pre {margin: 0.2em;color: black;border-radius: 0.25em;background-color: #f0f8ff;}#sk-container-id-1 input.sk-toggleable__control:checked~div.sk-toggleable__content {max-height: 200px;max-width: 100%;overflow: auto;}#sk-container-id-1 input.sk-toggleable__control:checked~label.sk-toggleable__label-arrow:before {content: \"▾\";}#sk-container-id-1 div.sk-estimator input.sk-toggleable__control:checked~label.sk-toggleable__label {background-color: #d4ebff;}#sk-container-id-1 div.sk-label input.sk-toggleable__control:checked~label.sk-toggleable__label {background-color: #d4ebff;}#sk-container-id-1 input.sk-hidden--visually {border: 0;clip: rect(1px 1px 1px 1px);clip: rect(1px, 1px, 1px, 1px);height: 1px;margin: -1px;overflow: hidden;padding: 0;position: absolute;width: 1px;}#sk-container-id-1 div.sk-estimator {font-family: monospace;background-color: #f0f8ff;border: 1px dotted black;border-radius: 0.25em;box-sizing: border-box;margin-bottom: 0.5em;}#sk-container-id-1 div.sk-estimator:hover {background-color: #d4ebff;}#sk-container-id-1 div.sk-parallel-item::after {content: \"\";width: 100%;border-bottom: 1px solid gray;flex-grow: 1;}#sk-container-id-1 div.sk-label:hover label.sk-toggleable__label {background-color: #d4ebff;}#sk-container-id-1 div.sk-serial::before {content: \"\";position: absolute;border-left: 1px solid gray;box-sizing: border-box;top: 0;bottom: 0;left: 50%;z-index: 0;}#sk-container-id-1 div.sk-serial {display: flex;flex-direction: column;align-items: center;background-color: white;padding-right: 0.2em;padding-left: 0.2em;position: relative;}#sk-container-id-1 div.sk-item {position: relative;z-index: 1;}#sk-container-id-1 div.sk-parallel {display: flex;align-items: stretch;justify-content: center;background-color: white;position: relative;}#sk-container-id-1 div.sk-item::before, #sk-container-id-1 div.sk-parallel-item::before {content: \"\";position: absolute;border-left: 1px solid gray;box-sizing: border-box;top: 0;bottom: 0;left: 50%;z-index: -1;}#sk-container-id-1 div.sk-parallel-item {display: flex;flex-direction: column;z-index: 1;position: relative;background-color: white;}#sk-container-id-1 div.sk-parallel-item:first-child::after {align-self: flex-end;width: 50%;}#sk-container-id-1 div.sk-parallel-item:last-child::after {align-self: flex-start;width: 50%;}#sk-container-id-1 div.sk-parallel-item:only-child::after {width: 0;}#sk-container-id-1 div.sk-dashed-wrapped {border: 1px dashed gray;margin: 0 0.4em 0.5em 0.4em;box-sizing: border-box;padding-bottom: 0.4em;background-color: white;}#sk-container-id-1 div.sk-label label {font-family: monospace;font-weight: bold;display: inline-block;line-height: 1.2em;}#sk-container-id-1 div.sk-label-container {text-align: center;}#sk-container-id-1 div.sk-container {/* jupyter's `normalize.less` sets `[hidden] { display: none; }` but bootstrap.min.css set `[hidden] { display: none !important; }` so we also need the `!important` here to be able to override the default hidden behavior on the sphinx rendered scikit-learn.org. See: https://github.com/scikit-learn/scikit-learn/issues/21755 */display: inline-block !important;position: relative;}#sk-container-id-1 div.sk-text-repr-fallback {display: none;}</style><div id=\"sk-container-id-1\" class=\"sk-top-container\"><div class=\"sk-text-repr-fallback\"><pre>Pipeline(steps=[(&#x27;scaler&#x27;, StandardScaler()),\n",
              "                (&#x27;mode&#x27;, RandomForestRegressor())])</pre><b>In a Jupyter environment, please rerun this cell to show the HTML representation or trust the notebook. <br />On GitHub, the HTML representation is unable to render, please try loading this page with nbviewer.org.</b></div><div class=\"sk-container\" hidden><div class=\"sk-item sk-dashed-wrapped\"><div class=\"sk-label-container\"><div class=\"sk-label sk-toggleable\"><input class=\"sk-toggleable__control sk-hidden--visually\" id=\"sk-estimator-id-1\" type=\"checkbox\" ><label for=\"sk-estimator-id-1\" class=\"sk-toggleable__label sk-toggleable__label-arrow\">Pipeline</label><div class=\"sk-toggleable__content\"><pre>Pipeline(steps=[(&#x27;scaler&#x27;, StandardScaler()),\n",
              "                (&#x27;mode&#x27;, RandomForestRegressor())])</pre></div></div></div><div class=\"sk-serial\"><div class=\"sk-item\"><div class=\"sk-estimator sk-toggleable\"><input class=\"sk-toggleable__control sk-hidden--visually\" id=\"sk-estimator-id-2\" type=\"checkbox\" ><label for=\"sk-estimator-id-2\" class=\"sk-toggleable__label sk-toggleable__label-arrow\">StandardScaler</label><div class=\"sk-toggleable__content\"><pre>StandardScaler()</pre></div></div></div><div class=\"sk-item\"><div class=\"sk-estimator sk-toggleable\"><input class=\"sk-toggleable__control sk-hidden--visually\" id=\"sk-estimator-id-3\" type=\"checkbox\" ><label for=\"sk-estimator-id-3\" class=\"sk-toggleable__label sk-toggleable__label-arrow\">RandomForestRegressor</label><div class=\"sk-toggleable__content\"><pre>RandomForestRegressor()</pre></div></div></div></div></div></div></div>"
            ]
          },
          "metadata": {},
          "execution_count": 29
        }
      ]
    },
    {
      "cell_type": "code",
      "execution_count": 30,
      "id": "fb69430d",
      "metadata": {
        "execution": {
          "iopub.execute_input": "2023-05-19T08:13:28.173285Z",
          "iopub.status.busy": "2023-05-19T08:13:28.172919Z",
          "iopub.status.idle": "2023-05-19T08:13:28.188102Z",
          "shell.execute_reply": "2023-05-19T08:13:28.187096Z"
        },
        "papermill": {
          "duration": 0.034464,
          "end_time": "2023-05-19T08:13:28.190334",
          "exception": false,
          "start_time": "2023-05-19T08:13:28.155870",
          "status": "completed"
        },
        "tags": [],
        "id": "fb69430d"
      },
      "outputs": [],
      "source": [
        "#How about a decision tree ?\n",
        "Input = [('scaler', StandardScaler()), ('mode', DecisionTreeRegressor())]\n",
        "pipe = Pipeline(Input)\n",
        "pipe.fit(train_X, train_y)\n",
        "pipe_y = pipe.predict(test_X)\n",
        "decis_score = pipe.score(test_X, test_y)"
      ]
    },
    {
      "cell_type": "code",
      "source": [
        "decis_score"
      ],
      "metadata": {
        "colab": {
          "base_uri": "https://localhost:8080/"
        },
        "id": "VKSmL3vGlhfA",
        "outputId": "7ae8fd03-2035-4444-d705-f34976cf0a3d"
      },
      "id": "VKSmL3vGlhfA",
      "execution_count": 33,
      "outputs": [
        {
          "output_type": "execute_result",
          "data": {
            "text/plain": [
              "0.9553790665213094"
            ]
          },
          "metadata": {},
          "execution_count": 33
        }
      ]
    },
    {
      "cell_type": "code",
      "execution_count": 31,
      "id": "d0f36f10",
      "metadata": {
        "execution": {
          "iopub.execute_input": "2023-05-19T08:13:28.223503Z",
          "iopub.status.busy": "2023-05-19T08:13:28.223128Z",
          "iopub.status.idle": "2023-05-19T08:13:28.239388Z",
          "shell.execute_reply": "2023-05-19T08:13:28.238344Z"
        },
        "papermill": {
          "duration": 0.035398,
          "end_time": "2023-05-19T08:13:28.241579",
          "exception": false,
          "start_time": "2023-05-19T08:13:28.206181",
          "status": "completed"
        },
        "tags": [],
        "id": "d0f36f10"
      },
      "outputs": [],
      "source": [
        "#Kneigbor model\n",
        "Input = [('scaler', StandardScaler()), ('mode', KNeighborsRegressor(n_neighbors = 4))]\n",
        "pipe = Pipeline(Input)\n",
        "pipe.fit(train_X, train_y)\n",
        "pipe_y = pipe.predict(test_X)\n",
        "kn_score = pipe.score(test_X, test_y)"
      ]
    },
    {
      "cell_type": "code",
      "source": [
        "kn_score"
      ],
      "metadata": {
        "colab": {
          "base_uri": "https://localhost:8080/"
        },
        "id": "Q46NHtTtllD4",
        "outputId": "f29f8505-4e17-4850-866d-49b8eb5481f7"
      },
      "id": "Q46NHtTtllD4",
      "execution_count": 32,
      "outputs": [
        {
          "output_type": "execute_result",
          "data": {
            "text/plain": [
              "0.9657902143679508"
            ]
          },
          "metadata": {},
          "execution_count": 32
        }
      ]
    },
    {
      "cell_type": "markdown",
      "id": "3a2851be",
      "metadata": {
        "papermill": {
          "duration": 0.015265,
          "end_time": "2023-05-19T08:13:28.272584",
          "exception": false,
          "start_time": "2023-05-19T08:13:28.257319",
          "status": "completed"
        },
        "tags": [],
        "id": "3a2851be"
      },
      "source": [
        "# Model Evaluation\n",
        "We will be using the rsquared scores to evaluate how well our models were good at predicting the Petal Length."
      ]
    },
    {
      "cell_type": "code",
      "execution_count": 34,
      "id": "4b81244a",
      "metadata": {
        "execution": {
          "iopub.execute_input": "2023-05-19T08:13:28.308344Z",
          "iopub.status.busy": "2023-05-19T08:13:28.307323Z",
          "iopub.status.idle": "2023-05-19T08:13:28.321017Z",
          "shell.execute_reply": "2023-05-19T08:13:28.320181Z"
        },
        "papermill": {
          "duration": 0.033931,
          "end_time": "2023-05-19T08:13:28.322993",
          "exception": false,
          "start_time": "2023-05-19T08:13:28.289062",
          "status": "completed"
        },
        "tags": [],
        "colab": {
          "base_uri": "https://localhost:8080/",
          "height": 175
        },
        "id": "4b81244a",
        "outputId": "7e59674e-82db-4b78-afa9-71709e6c9edb"
      },
      "outputs": [
        {
          "output_type": "execute_result",
          "data": {
            "text/plain": [
              "              Accuracy\n",
              "Mult_Linear   0.963401\n",
              "RandomForest  0.968905\n",
              "DecisionTree  0.955379\n",
              "KNeighbors    0.965790"
            ],
            "text/html": [
              "\n",
              "  <div id=\"df-63e64ca3-ea73-4428-9df5-2c7ca9bcb371\">\n",
              "    <div class=\"colab-df-container\">\n",
              "      <div>\n",
              "<style scoped>\n",
              "    .dataframe tbody tr th:only-of-type {\n",
              "        vertical-align: middle;\n",
              "    }\n",
              "\n",
              "    .dataframe tbody tr th {\n",
              "        vertical-align: top;\n",
              "    }\n",
              "\n",
              "    .dataframe thead th {\n",
              "        text-align: right;\n",
              "    }\n",
              "</style>\n",
              "<table border=\"1\" class=\"dataframe\">\n",
              "  <thead>\n",
              "    <tr style=\"text-align: right;\">\n",
              "      <th></th>\n",
              "      <th>Accuracy</th>\n",
              "    </tr>\n",
              "  </thead>\n",
              "  <tbody>\n",
              "    <tr>\n",
              "      <th>Mult_Linear</th>\n",
              "      <td>0.963401</td>\n",
              "    </tr>\n",
              "    <tr>\n",
              "      <th>RandomForest</th>\n",
              "      <td>0.968905</td>\n",
              "    </tr>\n",
              "    <tr>\n",
              "      <th>DecisionTree</th>\n",
              "      <td>0.955379</td>\n",
              "    </tr>\n",
              "    <tr>\n",
              "      <th>KNeighbors</th>\n",
              "      <td>0.965790</td>\n",
              "    </tr>\n",
              "  </tbody>\n",
              "</table>\n",
              "</div>\n",
              "      <button class=\"colab-df-convert\" onclick=\"convertToInteractive('df-63e64ca3-ea73-4428-9df5-2c7ca9bcb371')\"\n",
              "              title=\"Convert this dataframe to an interactive table.\"\n",
              "              style=\"display:none;\">\n",
              "        \n",
              "  <svg xmlns=\"http://www.w3.org/2000/svg\" height=\"24px\"viewBox=\"0 0 24 24\"\n",
              "       width=\"24px\">\n",
              "    <path d=\"M0 0h24v24H0V0z\" fill=\"none\"/>\n",
              "    <path d=\"M18.56 5.44l.94 2.06.94-2.06 2.06-.94-2.06-.94-.94-2.06-.94 2.06-2.06.94zm-11 1L8.5 8.5l.94-2.06 2.06-.94-2.06-.94L8.5 2.5l-.94 2.06-2.06.94zm10 10l.94 2.06.94-2.06 2.06-.94-2.06-.94-.94-2.06-.94 2.06-2.06.94z\"/><path d=\"M17.41 7.96l-1.37-1.37c-.4-.4-.92-.59-1.43-.59-.52 0-1.04.2-1.43.59L10.3 9.45l-7.72 7.72c-.78.78-.78 2.05 0 2.83L4 21.41c.39.39.9.59 1.41.59.51 0 1.02-.2 1.41-.59l7.78-7.78 2.81-2.81c.8-.78.8-2.07 0-2.86zM5.41 20L4 18.59l7.72-7.72 1.47 1.35L5.41 20z\"/>\n",
              "  </svg>\n",
              "      </button>\n",
              "      \n",
              "  <style>\n",
              "    .colab-df-container {\n",
              "      display:flex;\n",
              "      flex-wrap:wrap;\n",
              "      gap: 12px;\n",
              "    }\n",
              "\n",
              "    .colab-df-convert {\n",
              "      background-color: #E8F0FE;\n",
              "      border: none;\n",
              "      border-radius: 50%;\n",
              "      cursor: pointer;\n",
              "      display: none;\n",
              "      fill: #1967D2;\n",
              "      height: 32px;\n",
              "      padding: 0 0 0 0;\n",
              "      width: 32px;\n",
              "    }\n",
              "\n",
              "    .colab-df-convert:hover {\n",
              "      background-color: #E2EBFA;\n",
              "      box-shadow: 0px 1px 2px rgba(60, 64, 67, 0.3), 0px 1px 3px 1px rgba(60, 64, 67, 0.15);\n",
              "      fill: #174EA6;\n",
              "    }\n",
              "\n",
              "    [theme=dark] .colab-df-convert {\n",
              "      background-color: #3B4455;\n",
              "      fill: #D2E3FC;\n",
              "    }\n",
              "\n",
              "    [theme=dark] .colab-df-convert:hover {\n",
              "      background-color: #434B5C;\n",
              "      box-shadow: 0px 1px 3px 1px rgba(0, 0, 0, 0.15);\n",
              "      filter: drop-shadow(0px 1px 2px rgba(0, 0, 0, 0.3));\n",
              "      fill: #FFFFFF;\n",
              "    }\n",
              "  </style>\n",
              "\n",
              "      <script>\n",
              "        const buttonEl =\n",
              "          document.querySelector('#df-63e64ca3-ea73-4428-9df5-2c7ca9bcb371 button.colab-df-convert');\n",
              "        buttonEl.style.display =\n",
              "          google.colab.kernel.accessAllowed ? 'block' : 'none';\n",
              "\n",
              "        async function convertToInteractive(key) {\n",
              "          const element = document.querySelector('#df-63e64ca3-ea73-4428-9df5-2c7ca9bcb371');\n",
              "          const dataTable =\n",
              "            await google.colab.kernel.invokeFunction('convertToInteractive',\n",
              "                                                     [key], {});\n",
              "          if (!dataTable) return;\n",
              "\n",
              "          const docLinkHtml = 'Like what you see? Visit the ' +\n",
              "            '<a target=\"_blank\" href=https://colab.research.google.com/notebooks/data_table.ipynb>data table notebook</a>'\n",
              "            + ' to learn more about interactive tables.';\n",
              "          element.innerHTML = '';\n",
              "          dataTable['output_type'] = 'display_data';\n",
              "          await google.colab.output.renderOutput(dataTable, element);\n",
              "          const docLink = document.createElement('div');\n",
              "          docLink.innerHTML = docLinkHtml;\n",
              "          element.appendChild(docLink);\n",
              "        }\n",
              "      </script>\n",
              "    </div>\n",
              "  </div>\n",
              "  "
            ]
          },
          "metadata": {},
          "execution_count": 34
        }
      ],
      "source": [
        "rscores = pd.DataFrame({'Mult_Linear': ml_score, 'RandomForest': rf_score, \n",
        "                       'DecisionTree': decis_score, 'KNeighbors': kn_score}, index = [ 'Accuracy'])\n",
        "rscores.transpose()"
      ]
    },
    {
      "cell_type": "markdown",
      "id": "d18cf873",
      "metadata": {
        "execution": {
          "iopub.execute_input": "2023-05-18T07:18:43.781400Z",
          "iopub.status.busy": "2023-05-18T07:18:43.780998Z",
          "iopub.status.idle": "2023-05-18T07:18:43.796007Z",
          "shell.execute_reply": "2023-05-18T07:18:43.794821Z",
          "shell.execute_reply.started": "2023-05-18T07:18:43.781369Z"
        },
        "papermill": {
          "duration": 0.015667,
          "end_time": "2023-05-19T08:13:28.354933",
          "exception": false,
          "start_time": "2023-05-19T08:13:28.339266",
          "status": "completed"
        },
        "tags": [],
        "id": "d18cf873"
      },
      "source": [
        "It seems the Random Forest Model is the best model for this dataset. It takes into account 98% of the data"
      ]
    },
    {
      "cell_type": "code",
      "execution_count": 35,
      "id": "659bec72",
      "metadata": {
        "execution": {
          "iopub.execute_input": "2023-05-19T08:13:28.389271Z",
          "iopub.status.busy": "2023-05-19T08:13:28.388599Z",
          "iopub.status.idle": "2023-05-19T08:13:28.394213Z",
          "shell.execute_reply": "2023-05-19T08:13:28.393424Z"
        },
        "papermill": {
          "duration": 0.025532,
          "end_time": "2023-05-19T08:13:28.396252",
          "exception": false,
          "start_time": "2023-05-19T08:13:28.370720",
          "status": "completed"
        },
        "tags": [],
        "id": "659bec72"
      },
      "outputs": [],
      "source": [
        "prediction_output = pd.DataFrame({\n",
        "                          'SepalLength':test_X['sepal_length'],\n",
        "                           'SepalWidth': test_X['sepal_width'],\n",
        "                   'petal_length':rf_predictions,                           \n",
        "            'species': species_2.columns[test_X.iloc[:, 0].values] })  \n",
        "         \n",
        "\n"
      ]
    },
    {
      "cell_type": "code",
      "execution_count": 36,
      "id": "a518245a",
      "metadata": {
        "execution": {
          "iopub.execute_input": "2023-05-19T08:13:28.430234Z",
          "iopub.status.busy": "2023-05-19T08:13:28.429850Z",
          "iopub.status.idle": "2023-05-19T08:13:28.442408Z",
          "shell.execute_reply": "2023-05-19T08:13:28.441287Z"
        },
        "papermill": {
          "duration": 0.032108,
          "end_time": "2023-05-19T08:13:28.444503",
          "exception": false,
          "start_time": "2023-05-19T08:13:28.412395",
          "status": "completed"
        },
        "tags": [],
        "id": "a518245a",
        "outputId": "75e09450-4a80-4842-c446-8fb9e7106ee0",
        "colab": {
          "base_uri": "https://localhost:8080/",
          "height": 206
        }
      },
      "outputs": [
        {
          "output_type": "execute_result",
          "data": {
            "text/plain": [
              "     SepalLength  SepalWidth  petal_length          species\n",
              "114          5.8         2.8         5.260  Iris-versicolor\n",
              "62           6.0         2.2         4.228   Iris-virginica\n",
              "33           5.5         4.2         1.456  Iris-versicolor\n",
              "107          7.3         2.9         6.026  Iris-versicolor\n",
              "7            5.0         3.4         1.442  Iris-versicolor"
            ],
            "text/html": [
              "\n",
              "  <div id=\"df-05640c88-cb8c-4ad7-b5f5-0378c52701b7\">\n",
              "    <div class=\"colab-df-container\">\n",
              "      <div>\n",
              "<style scoped>\n",
              "    .dataframe tbody tr th:only-of-type {\n",
              "        vertical-align: middle;\n",
              "    }\n",
              "\n",
              "    .dataframe tbody tr th {\n",
              "        vertical-align: top;\n",
              "    }\n",
              "\n",
              "    .dataframe thead th {\n",
              "        text-align: right;\n",
              "    }\n",
              "</style>\n",
              "<table border=\"1\" class=\"dataframe\">\n",
              "  <thead>\n",
              "    <tr style=\"text-align: right;\">\n",
              "      <th></th>\n",
              "      <th>SepalLength</th>\n",
              "      <th>SepalWidth</th>\n",
              "      <th>petal_length</th>\n",
              "      <th>species</th>\n",
              "    </tr>\n",
              "  </thead>\n",
              "  <tbody>\n",
              "    <tr>\n",
              "      <th>114</th>\n",
              "      <td>5.8</td>\n",
              "      <td>2.8</td>\n",
              "      <td>5.260</td>\n",
              "      <td>Iris-versicolor</td>\n",
              "    </tr>\n",
              "    <tr>\n",
              "      <th>62</th>\n",
              "      <td>6.0</td>\n",
              "      <td>2.2</td>\n",
              "      <td>4.228</td>\n",
              "      <td>Iris-virginica</td>\n",
              "    </tr>\n",
              "    <tr>\n",
              "      <th>33</th>\n",
              "      <td>5.5</td>\n",
              "      <td>4.2</td>\n",
              "      <td>1.456</td>\n",
              "      <td>Iris-versicolor</td>\n",
              "    </tr>\n",
              "    <tr>\n",
              "      <th>107</th>\n",
              "      <td>7.3</td>\n",
              "      <td>2.9</td>\n",
              "      <td>6.026</td>\n",
              "      <td>Iris-versicolor</td>\n",
              "    </tr>\n",
              "    <tr>\n",
              "      <th>7</th>\n",
              "      <td>5.0</td>\n",
              "      <td>3.4</td>\n",
              "      <td>1.442</td>\n",
              "      <td>Iris-versicolor</td>\n",
              "    </tr>\n",
              "  </tbody>\n",
              "</table>\n",
              "</div>\n",
              "      <button class=\"colab-df-convert\" onclick=\"convertToInteractive('df-05640c88-cb8c-4ad7-b5f5-0378c52701b7')\"\n",
              "              title=\"Convert this dataframe to an interactive table.\"\n",
              "              style=\"display:none;\">\n",
              "        \n",
              "  <svg xmlns=\"http://www.w3.org/2000/svg\" height=\"24px\"viewBox=\"0 0 24 24\"\n",
              "       width=\"24px\">\n",
              "    <path d=\"M0 0h24v24H0V0z\" fill=\"none\"/>\n",
              "    <path d=\"M18.56 5.44l.94 2.06.94-2.06 2.06-.94-2.06-.94-.94-2.06-.94 2.06-2.06.94zm-11 1L8.5 8.5l.94-2.06 2.06-.94-2.06-.94L8.5 2.5l-.94 2.06-2.06.94zm10 10l.94 2.06.94-2.06 2.06-.94-2.06-.94-.94-2.06-.94 2.06-2.06.94z\"/><path d=\"M17.41 7.96l-1.37-1.37c-.4-.4-.92-.59-1.43-.59-.52 0-1.04.2-1.43.59L10.3 9.45l-7.72 7.72c-.78.78-.78 2.05 0 2.83L4 21.41c.39.39.9.59 1.41.59.51 0 1.02-.2 1.41-.59l7.78-7.78 2.81-2.81c.8-.78.8-2.07 0-2.86zM5.41 20L4 18.59l7.72-7.72 1.47 1.35L5.41 20z\"/>\n",
              "  </svg>\n",
              "      </button>\n",
              "      \n",
              "  <style>\n",
              "    .colab-df-container {\n",
              "      display:flex;\n",
              "      flex-wrap:wrap;\n",
              "      gap: 12px;\n",
              "    }\n",
              "\n",
              "    .colab-df-convert {\n",
              "      background-color: #E8F0FE;\n",
              "      border: none;\n",
              "      border-radius: 50%;\n",
              "      cursor: pointer;\n",
              "      display: none;\n",
              "      fill: #1967D2;\n",
              "      height: 32px;\n",
              "      padding: 0 0 0 0;\n",
              "      width: 32px;\n",
              "    }\n",
              "\n",
              "    .colab-df-convert:hover {\n",
              "      background-color: #E2EBFA;\n",
              "      box-shadow: 0px 1px 2px rgba(60, 64, 67, 0.3), 0px 1px 3px 1px rgba(60, 64, 67, 0.15);\n",
              "      fill: #174EA6;\n",
              "    }\n",
              "\n",
              "    [theme=dark] .colab-df-convert {\n",
              "      background-color: #3B4455;\n",
              "      fill: #D2E3FC;\n",
              "    }\n",
              "\n",
              "    [theme=dark] .colab-df-convert:hover {\n",
              "      background-color: #434B5C;\n",
              "      box-shadow: 0px 1px 3px 1px rgba(0, 0, 0, 0.15);\n",
              "      filter: drop-shadow(0px 1px 2px rgba(0, 0, 0, 0.3));\n",
              "      fill: #FFFFFF;\n",
              "    }\n",
              "  </style>\n",
              "\n",
              "      <script>\n",
              "        const buttonEl =\n",
              "          document.querySelector('#df-05640c88-cb8c-4ad7-b5f5-0378c52701b7 button.colab-df-convert');\n",
              "        buttonEl.style.display =\n",
              "          google.colab.kernel.accessAllowed ? 'block' : 'none';\n",
              "\n",
              "        async function convertToInteractive(key) {\n",
              "          const element = document.querySelector('#df-05640c88-cb8c-4ad7-b5f5-0378c52701b7');\n",
              "          const dataTable =\n",
              "            await google.colab.kernel.invokeFunction('convertToInteractive',\n",
              "                                                     [key], {});\n",
              "          if (!dataTable) return;\n",
              "\n",
              "          const docLinkHtml = 'Like what you see? Visit the ' +\n",
              "            '<a target=\"_blank\" href=https://colab.research.google.com/notebooks/data_table.ipynb>data table notebook</a>'\n",
              "            + ' to learn more about interactive tables.';\n",
              "          element.innerHTML = '';\n",
              "          dataTable['output_type'] = 'display_data';\n",
              "          await google.colab.output.renderOutput(dataTable, element);\n",
              "          const docLink = document.createElement('div');\n",
              "          docLink.innerHTML = docLinkHtml;\n",
              "          element.appendChild(docLink);\n",
              "        }\n",
              "      </script>\n",
              "    </div>\n",
              "  </div>\n",
              "  "
            ]
          },
          "metadata": {},
          "execution_count": 36
        }
      ],
      "source": [
        "prediction_output.head()"
      ]
    }
  ],
  "metadata": {
    "kernelspec": {
      "display_name": "Python 3",
      "language": "python",
      "name": "python3"
    },
    "language_info": {
      "codemirror_mode": {
        "name": "ipython",
        "version": 3
      },
      "file_extension": ".py",
      "mimetype": "text/x-python",
      "name": "python",
      "nbconvert_exporter": "python",
      "pygments_lexer": "ipython3",
      "version": "3.10.10"
    },
    "papermill": {
      "default_parameters": {},
      "duration": 19.626881,
      "end_time": "2023-05-19T08:13:29.514438",
      "environment_variables": {},
      "exception": null,
      "input_path": "__notebook__.ipynb",
      "output_path": "__notebook__.ipynb",
      "parameters": {},
      "start_time": "2023-05-19T08:13:09.887557",
      "version": "2.4.0"
    },
    "colab": {
      "provenance": []
    }
  },
  "nbformat": 4,
  "nbformat_minor": 5
}